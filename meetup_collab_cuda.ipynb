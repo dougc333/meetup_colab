{
  "cells": [
    {
      "cell_type": "markdown",
      "metadata": {
        "id": "view-in-github",
        "colab_type": "text"
      },
      "source": [
        "<a href=\"https://colab.research.google.com/github/dougc333/meetup_colab/blob/main/meetup_collab_cuda.ipynb\" target=\"_parent\"><img src=\"https://colab.research.google.com/assets/colab-badge.svg\" alt=\"Open In Colab\"/></a>"
      ]
    },
    {
      "cell_type": "code",
      "source": [
        "#verify CUDA version 12.4\n",
        "!nvidia-smi\n"
      ],
      "metadata": {
        "colab": {
          "base_uri": "https://localhost:8080/"
        },
        "id": "7Vfn4eEewFDz",
        "outputId": "02d61fb9-a777-4429-8f63-f43c4ba2a0ed"
      },
      "execution_count": 2,
      "outputs": [
        {
          "output_type": "stream",
          "name": "stdout",
          "text": [
            "Thu May  8 16:27:55 2025       \n",
            "+-----------------------------------------------------------------------------------------+\n",
            "| NVIDIA-SMI 550.54.15              Driver Version: 550.54.15      CUDA Version: 12.4     |\n",
            "|-----------------------------------------+------------------------+----------------------+\n",
            "| GPU  Name                 Persistence-M | Bus-Id          Disp.A | Volatile Uncorr. ECC |\n",
            "| Fan  Temp   Perf          Pwr:Usage/Cap |           Memory-Usage | GPU-Util  Compute M. |\n",
            "|                                         |                        |               MIG M. |\n",
            "|=========================================+========================+======================|\n",
            "|   0  NVIDIA L4                      Off |   00000000:00:03.0 Off |                    0 |\n",
            "| N/A   42C    P8             12W /   72W |       0MiB /  23034MiB |      0%      Default |\n",
            "|                                         |                        |                  N/A |\n",
            "+-----------------------------------------+------------------------+----------------------+\n",
            "                                                                                         \n",
            "+-----------------------------------------------------------------------------------------+\n",
            "| Processes:                                                                              |\n",
            "|  GPU   GI   CI        PID   Type   Process name                              GPU Memory |\n",
            "|        ID   ID                                                               Usage      |\n",
            "|=========================================================================================|\n",
            "|  No running processes found                                                             |\n",
            "+-----------------------------------------------------------------------------------------+\n"
          ]
        }
      ]
    },
    {
      "cell_type": "code",
      "source": [
        "!nvcc --version\n",
        "# release 12.5 doesn't match 12.4 from nvidia-smi"
      ],
      "metadata": {
        "colab": {
          "base_uri": "https://localhost:8080/"
        },
        "id": "QpxHIprv-iM9",
        "outputId": "2a179af1-16a4-4391-ab10-61d0adf711d8"
      },
      "execution_count": 3,
      "outputs": [
        {
          "output_type": "stream",
          "name": "stdout",
          "text": [
            "nvcc: NVIDIA (R) Cuda compiler driver\n",
            "Copyright (c) 2005-2024 NVIDIA Corporation\n",
            "Built on Thu_Jun__6_02:18:23_PDT_2024\n",
            "Cuda compilation tools, release 12.5, V12.5.82\n",
            "Build cuda_12.5.r12.5/compiler.34385749_0\n"
          ]
        }
      ]
    },
    {
      "cell_type": "code",
      "source": [
        "import torch\n",
        "print(torch.__version__)\n",
        "#verify 2.6.0+cu124 if not then proceed with updating cuda to 12.4"
      ],
      "metadata": {
        "id": "s-6nbHRr2QbB",
        "colab": {
          "base_uri": "https://localhost:8080/"
        },
        "outputId": "0df2b6fe-91bd-4e34-ac27-38024d6daa14"
      },
      "execution_count": 4,
      "outputs": [
        {
          "output_type": "stream",
          "name": "stdout",
          "text": [
            "2.6.0+cu124\n"
          ]
        }
      ]
    },
    {
      "cell_type": "code",
      "source": [
        "!pip install meetup-colab"
      ],
      "metadata": {
        "colab": {
          "base_uri": "https://localhost:8080/"
        },
        "id": "XpHwIuonuX-u",
        "outputId": "26b43ad2-628f-4e08-bdf4-49bb8d9a2fec"
      },
      "execution_count": 5,
      "outputs": [
        {
          "output_type": "stream",
          "name": "stdout",
          "text": [
            "Collecting meetup-colab\n",
            "  Downloading meetup_colab-0.0.2-py3-none-any.whl.metadata (746 bytes)\n",
            "Downloading meetup_colab-0.0.2-py3-none-any.whl (3.1 kB)\n",
            "Installing collected packages: meetup-colab\n",
            "Successfully installed meetup-colab-0.0.2\n"
          ]
        }
      ]
    },
    {
      "cell_type": "code",
      "source": [
        "from meetup_colab import nvidia\n",
        "nvidia.update_12_4()"
      ],
      "metadata": {
        "colab": {
          "base_uri": "https://localhost:8080/"
        },
        "id": "16AEns6_udEO",
        "outputId": "7c2ae3e4-9cab-48df-f940-7bf7a6e3dd0b"
      },
      "execution_count": 6,
      "outputs": [
        {
          "output_type": "stream",
          "name": "stdout",
          "text": [
            "colab_dc333.update_12_4 downgrades colab from cuda12.5 to cuda12.4 to make nvcc and nvidia-smi match\n",
            "this takes 5minutes, please wait ...\n"
          ]
        }
      ]
    },
    {
      "cell_type": "code",
      "source": [
        "#should verify to 12.4 do not proceed if not verified\n",
        "!nvcc --version"
      ],
      "metadata": {
        "id": "U_FfIHRAejll",
        "outputId": "af231692-1206-4c7a-f3a3-1bd44b73bdad",
        "colab": {
          "base_uri": "https://localhost:8080/"
        }
      },
      "execution_count": 1,
      "outputs": [
        {
          "output_type": "stream",
          "name": "stdout",
          "text": [
            "nvcc: NVIDIA (R) Cuda compiler driver\n",
            "Copyright (c) 2005-2024 NVIDIA Corporation\n",
            "Built on Thu_Mar_28_02:18:24_PDT_2024\n",
            "Cuda compilation tools, release 12.4, V12.4.131\n",
            "Build cuda_12.4.r12.4/compiler.34097967_0\n"
          ]
        }
      ]
    },
    {
      "cell_type": "code",
      "source": [
        "#takes 5-10m and requires restart.\n",
        "!pip install nemo_toolkit['all']"
      ],
      "metadata": {
        "colab": {
          "base_uri": "https://localhost:8080/"
        },
        "id": "EnzQqXIJwF4X",
        "outputId": "a6b41661-1098-4108-cd9f-c8e18a8f7311"
      },
      "execution_count": 2,
      "outputs": [
        {
          "output_type": "stream",
          "name": "stdout",
          "text": [
            "Requirement already satisfied: nemo_toolkit[all] in /usr/local/lib/python3.11/dist-packages (2.2.1)\n",
            "Requirement already satisfied: huggingface_hub>=0.24 in /usr/local/lib/python3.11/dist-packages (from nemo_toolkit[all]) (0.30.2)\n",
            "Requirement already satisfied: numba==0.61.0 in /usr/local/lib/python3.11/dist-packages (from nemo_toolkit[all]) (0.61.0)\n",
            "Requirement already satisfied: numpy>=1.22 in /usr/local/lib/python3.11/dist-packages (from nemo_toolkit[all]) (1.26.4)\n",
            "Requirement already satisfied: onnx>=1.7.0 in /usr/local/lib/python3.11/dist-packages (from nemo_toolkit[all]) (1.17.0)\n",
            "Requirement already satisfied: protobuf==3.20.3 in /usr/local/lib/python3.11/dist-packages (from nemo_toolkit[all]) (3.20.3)\n",
            "Requirement already satisfied: python-dateutil in /usr/local/lib/python3.11/dist-packages (from nemo_toolkit[all]) (2.9.0.post0)\n",
            "Requirement already satisfied: ruamel.yaml in /usr/local/lib/python3.11/dist-packages (from nemo_toolkit[all]) (0.18.10)\n",
            "Requirement already satisfied: scikit-learn in /usr/local/lib/python3.11/dist-packages (from nemo_toolkit[all]) (1.6.1)\n",
            "Requirement already satisfied: setuptools>=70.0.0 in /usr/local/lib/python3.11/dist-packages (from nemo_toolkit[all]) (75.2.0)\n",
            "Requirement already satisfied: tensorboard in /usr/local/lib/python3.11/dist-packages (from nemo_toolkit[all]) (2.18.0)\n",
            "Requirement already satisfied: text-unidecode in /usr/local/lib/python3.11/dist-packages (from nemo_toolkit[all]) (1.3)\n",
            "Requirement already satisfied: torch in /usr/local/lib/python3.11/dist-packages (from nemo_toolkit[all]) (2.6.0+cu124)\n",
            "Requirement already satisfied: tqdm>=4.41.0 in /usr/local/lib/python3.11/dist-packages (from nemo_toolkit[all]) (4.67.1)\n",
            "Requirement already satisfied: wget in /usr/local/lib/python3.11/dist-packages (from nemo_toolkit[all]) (3.2)\n",
            "Requirement already satisfied: wrapt in /usr/local/lib/python3.11/dist-packages (from nemo_toolkit[all]) (1.17.2)\n",
            "Requirement already satisfied: black~=24.3 in /usr/local/lib/python3.11/dist-packages (from nemo_toolkit[all]) (24.10.0)\n",
            "Requirement already satisfied: click>=8.1 in /usr/local/lib/python3.11/dist-packages (from nemo_toolkit[all]) (8.1.8)\n",
            "Requirement already satisfied: coverage in /usr/local/lib/python3.11/dist-packages (from nemo_toolkit[all]) (7.8.0)\n",
            "Requirement already satisfied: isort<6.0.0,>5.1.0 in /usr/local/lib/python3.11/dist-packages (from nemo_toolkit[all]) (5.13.2)\n",
            "Requirement already satisfied: parameterized in /usr/local/lib/python3.11/dist-packages (from nemo_toolkit[all]) (0.9.0)\n",
            "Requirement already satisfied: pytest in /usr/local/lib/python3.11/dist-packages (from nemo_toolkit[all]) (8.3.5)\n",
            "Requirement already satisfied: pytest-coverage in /usr/local/lib/python3.11/dist-packages (from nemo_toolkit[all]) (0.0)\n",
            "Requirement already satisfied: pytest-mock in /usr/local/lib/python3.11/dist-packages (from nemo_toolkit[all]) (3.14.0)\n",
            "Requirement already satisfied: pytest-runner in /usr/local/lib/python3.11/dist-packages (from nemo_toolkit[all]) (6.0.1)\n",
            "Requirement already satisfied: sphinx in /usr/local/lib/python3.11/dist-packages (from nemo_toolkit[all]) (8.2.3)\n",
            "Requirement already satisfied: sphinxcontrib-bibtex in /usr/local/lib/python3.11/dist-packages (from nemo_toolkit[all]) (2.6.3)\n",
            "Requirement already satisfied: wandb in /usr/local/lib/python3.11/dist-packages (from nemo_toolkit[all]) (0.19.10)\n",
            "Requirement already satisfied: cloudpickle in /usr/local/lib/python3.11/dist-packages (from nemo_toolkit[all]) (3.1.1)\n",
            "Requirement already satisfied: fiddle in /usr/local/lib/python3.11/dist-packages (from nemo_toolkit[all]) (0.3.0)\n",
            "Requirement already satisfied: hydra-core<=1.3.2,>1.3 in /usr/local/lib/python3.11/dist-packages (from nemo_toolkit[all]) (1.3.2)\n",
            "Requirement already satisfied: lightning<=2.4.0,>2.2.1 in /usr/local/lib/python3.11/dist-packages (from nemo_toolkit[all]) (2.4.0)\n",
            "Requirement already satisfied: omegaconf<=2.3 in /usr/local/lib/python3.11/dist-packages (from nemo_toolkit[all]) (2.3.0)\n",
            "Requirement already satisfied: peft in /usr/local/lib/python3.11/dist-packages (from nemo_toolkit[all]) (0.15.2)\n",
            "Requirement already satisfied: torchmetrics>=0.11.0 in /usr/local/lib/python3.11/dist-packages (from nemo_toolkit[all]) (1.7.1)\n",
            "Requirement already satisfied: transformers<=4.48.3,>=4.48.0 in /usr/local/lib/python3.11/dist-packages (from nemo_toolkit[all]) (4.48.3)\n",
            "Requirement already satisfied: webdataset>=0.2.86 in /usr/local/lib/python3.11/dist-packages (from nemo_toolkit[all]) (0.2.111)\n",
            "Requirement already satisfied: datasets in /usr/local/lib/python3.11/dist-packages (from nemo_toolkit[all]) (3.6.0)\n",
            "Requirement already satisfied: einops in /usr/local/lib/python3.11/dist-packages (from nemo_toolkit[all]) (0.8.1)\n",
            "Requirement already satisfied: inflect in /usr/local/lib/python3.11/dist-packages (from nemo_toolkit[all]) (7.5.0)\n",
            "Requirement already satisfied: mediapy==1.1.6 in /usr/local/lib/python3.11/dist-packages (from nemo_toolkit[all]) (1.1.6)\n",
            "Requirement already satisfied: pandas in /usr/local/lib/python3.11/dist-packages (from nemo_toolkit[all]) (2.2.2)\n",
            "Requirement already satisfied: sacremoses>=0.0.43 in /usr/local/lib/python3.11/dist-packages (from nemo_toolkit[all]) (0.1.1)\n",
            "Requirement already satisfied: sentencepiece<1.0.0 in /usr/local/lib/python3.11/dist-packages (from nemo_toolkit[all]) (0.2.0)\n",
            "Requirement already satisfied: braceexpand in /usr/local/lib/python3.11/dist-packages (from nemo_toolkit[all]) (0.1.7)\n",
            "Requirement already satisfied: editdistance in /usr/local/lib/python3.11/dist-packages (from nemo_toolkit[all]) (0.8.1)\n",
            "Requirement already satisfied: g2p_en in /usr/local/lib/python3.11/dist-packages (from nemo_toolkit[all]) (2.1.0)\n",
            "Requirement already satisfied: jiwer in /usr/local/lib/python3.11/dist-packages (from nemo_toolkit[all]) (3.1.0)\n",
            "Requirement already satisfied: kaldi-python-io in /usr/local/lib/python3.11/dist-packages (from nemo_toolkit[all]) (1.2.2)\n",
            "Requirement already satisfied: kaldiio in /usr/local/lib/python3.11/dist-packages (from nemo_toolkit[all]) (2.18.1)\n",
            "Requirement already satisfied: lhotse>=1.26.0 in /usr/local/lib/python3.11/dist-packages (from nemo_toolkit[all]) (1.31.0)\n",
            "Requirement already satisfied: librosa>=0.10.2 in /usr/local/lib/python3.11/dist-packages (from nemo_toolkit[all]) (0.11.0)\n",
            "Requirement already satisfied: marshmallow in /usr/local/lib/python3.11/dist-packages (from nemo_toolkit[all]) (4.0.0)\n",
            "Requirement already satisfied: optuna in /usr/local/lib/python3.11/dist-packages (from nemo_toolkit[all]) (4.3.0)\n",
            "Requirement already satisfied: packaging in /usr/local/lib/python3.11/dist-packages (from nemo_toolkit[all]) (24.2)\n",
            "Requirement already satisfied: pyannote.core in /usr/local/lib/python3.11/dist-packages (from nemo_toolkit[all]) (5.0.0)\n",
            "Requirement already satisfied: pyannote.metrics in /usr/local/lib/python3.11/dist-packages (from nemo_toolkit[all]) (3.2.1)\n",
            "Requirement already satisfied: pydub in /usr/local/lib/python3.11/dist-packages (from nemo_toolkit[all]) (0.25.1)\n",
            "Requirement already satisfied: pyloudnorm in /usr/local/lib/python3.11/dist-packages (from nemo_toolkit[all]) (0.1.1)\n",
            "Requirement already satisfied: resampy in /usr/local/lib/python3.11/dist-packages (from nemo_toolkit[all]) (0.4.3)\n",
            "Requirement already satisfied: scipy>=0.14 in /usr/local/lib/python3.11/dist-packages (from nemo_toolkit[all]) (1.15.2)\n",
            "Requirement already satisfied: soundfile in /usr/local/lib/python3.11/dist-packages (from nemo_toolkit[all]) (0.13.1)\n",
            "Requirement already satisfied: sox in /usr/local/lib/python3.11/dist-packages (from nemo_toolkit[all]) (1.5.0)\n",
            "Requirement already satisfied: texterrors<1.0.0 in /usr/local/lib/python3.11/dist-packages (from nemo_toolkit[all]) (0.5.1)\n",
            "Requirement already satisfied: accelerated-scan in /usr/local/lib/python3.11/dist-packages (from nemo_toolkit[all]) (0.2.0)\n",
            "Requirement already satisfied: boto3 in /usr/local/lib/python3.11/dist-packages (from nemo_toolkit[all]) (1.38.11)\n",
            "Requirement already satisfied: faiss-cpu in /usr/local/lib/python3.11/dist-packages (from nemo_toolkit[all]) (1.11.0)\n",
            "Requirement already satisfied: fasttext in /usr/local/lib/python3.11/dist-packages (from nemo_toolkit[all]) (0.9.3)\n",
            "Requirement already satisfied: flask_restful in /usr/local/lib/python3.11/dist-packages (from nemo_toolkit[all]) (0.3.10)\n",
            "Requirement already satisfied: ftfy in /usr/local/lib/python3.11/dist-packages (from nemo_toolkit[all]) (6.3.1)\n",
            "Requirement already satisfied: gdown in /usr/local/lib/python3.11/dist-packages (from nemo_toolkit[all]) (5.2.0)\n",
            "Requirement already satisfied: h5py in /usr/local/lib/python3.11/dist-packages (from nemo_toolkit[all]) (3.13.0)\n",
            "Requirement already satisfied: ijson in /usr/local/lib/python3.11/dist-packages (from nemo_toolkit[all]) (3.4.0)\n",
            "Requirement already satisfied: jieba in /usr/local/lib/python3.11/dist-packages (from nemo_toolkit[all]) (0.42.1)\n",
            "Requirement already satisfied: markdown2 in /usr/local/lib/python3.11/dist-packages (from nemo_toolkit[all]) (2.5.3)\n",
            "Requirement already satisfied: matplotlib>=3.3.2 in /usr/local/lib/python3.11/dist-packages (from nemo_toolkit[all]) (3.10.0)\n",
            "Requirement already satisfied: nltk>=3.6.5 in /usr/local/lib/python3.11/dist-packages (from nemo_toolkit[all]) (3.9.1)\n",
            "Requirement already satisfied: nvidia-modelopt==0.23.2 in /usr/local/lib/python3.11/dist-packages (from nvidia-modelopt[torch]==0.23.2; platform_system != \"Darwin\" and extra == \"all\"->nemo_toolkit[all]) (0.23.2)\n",
            "Requirement already satisfied: opencc in /usr/local/lib/python3.11/dist-packages (from nemo_toolkit[all]) (1.1.9)\n",
            "Requirement already satisfied: pangu in /usr/local/lib/python3.11/dist-packages (from nemo_toolkit[all]) (4.0.6.1)\n",
            "Requirement already satisfied: prettytable in /usr/local/lib/python3.11/dist-packages (from nemo_toolkit[all]) (3.16.0)\n",
            "Requirement already satisfied: rapidfuzz in /usr/local/lib/python3.11/dist-packages (from nemo_toolkit[all]) (3.13.0)\n",
            "Requirement already satisfied: rouge_score in /usr/local/lib/python3.11/dist-packages (from nemo_toolkit[all]) (0.1.2)\n",
            "Requirement already satisfied: sacrebleu in /usr/local/lib/python3.11/dist-packages (from nemo_toolkit[all]) (2.5.1)\n",
            "Requirement already satisfied: sentence_transformers in /usr/local/lib/python3.11/dist-packages (from nemo_toolkit[all]) (3.4.1)\n",
            "Requirement already satisfied: tensorstore<0.1.72 in /usr/local/lib/python3.11/dist-packages (from nemo_toolkit[all]) (0.1.71)\n",
            "Requirement already satisfied: tiktoken==0.7.0 in /usr/local/lib/python3.11/dist-packages (from nemo_toolkit[all]) (0.7.0)\n",
            "Requirement already satisfied: zarr<3.0.0,>=2.18.2 in /usr/local/lib/python3.11/dist-packages (from nemo_toolkit[all]) (2.18.7)\n",
            "Requirement already satisfied: attrdict in /usr/local/lib/python3.11/dist-packages (from nemo_toolkit[all]) (2.0.1)\n",
            "Requirement already satisfied: cdifflib==1.2.6 in /usr/local/lib/python3.11/dist-packages (from nemo_toolkit[all]) (1.2.6)\n",
            "Requirement already satisfied: janome in /usr/local/lib/python3.11/dist-packages (from nemo_toolkit[all]) (0.5.0)\n",
            "Requirement already satisfied: kornia in /usr/local/lib/python3.11/dist-packages (from nemo_toolkit[all]) (0.8.1)\n",
            "Requirement already satisfied: nemo_text_processing in /usr/local/lib/python3.11/dist-packages (from nemo_toolkit[all]) (1.1.0)\n",
            "Requirement already satisfied: pypinyin in /usr/local/lib/python3.11/dist-packages (from nemo_toolkit[all]) (0.54.0)\n",
            "Requirement already satisfied: pypinyin-dict in /usr/local/lib/python3.11/dist-packages (from nemo_toolkit[all]) (0.9.0)\n",
            "Requirement already satisfied: seaborn in /usr/local/lib/python3.11/dist-packages (from nemo_toolkit[all]) (0.13.2)\n",
            "Requirement already satisfied: progress>=1.5 in /usr/local/lib/python3.11/dist-packages (from nemo_toolkit[all]) (1.6)\n",
            "Requirement already satisfied: tabulate>=0.8.7 in /usr/local/lib/python3.11/dist-packages (from nemo_toolkit[all]) (0.9.0)\n",
            "Requirement already satisfied: textdistance>=4.1.5 in /usr/local/lib/python3.11/dist-packages (from nemo_toolkit[all]) (4.6.3)\n",
            "Requirement already satisfied: addict in /usr/local/lib/python3.11/dist-packages (from nemo_toolkit[all]) (2.4.0)\n",
            "Requirement already satisfied: bitsandbytes==0.45.0 in /usr/local/lib/python3.11/dist-packages (from nemo_toolkit[all]) (0.45.0)\n",
            "Requirement already satisfied: clip in /usr/local/lib/python3.11/dist-packages (from nemo_toolkit[all]) (0.2.0)\n",
            "Requirement already satisfied: decord in /usr/local/lib/python3.11/dist-packages (from nemo_toolkit[all]) (0.6.0)\n",
            "Requirement already satisfied: diffusers>=0.19.3 in /usr/local/lib/python3.11/dist-packages (from nemo_toolkit[all]) (0.33.1)\n",
            "Requirement already satisfied: einops_exts in /usr/local/lib/python3.11/dist-packages (from nemo_toolkit[all]) (0.0.4)\n",
            "Requirement already satisfied: imageio in /usr/local/lib/python3.11/dist-packages (from nemo_toolkit[all]) (2.37.0)\n",
            "Requirement already satisfied: megatron-energon==5.2.0 in /usr/local/lib/python3.11/dist-packages (from nemo_toolkit[all]) (5.2.0)\n",
            "Requirement already satisfied: nerfacc>=0.5.3 in /usr/local/lib/python3.11/dist-packages (from nemo_toolkit[all]) (0.5.3)\n",
            "Requirement already satisfied: open_clip_torch==2.24.0 in /usr/local/lib/python3.11/dist-packages (from nemo_toolkit[all]) (2.24.0)\n",
            "Requirement already satisfied: PyMCubes in /usr/local/lib/python3.11/dist-packages (from nemo_toolkit[all]) (0.1.6)\n",
            "Requirement already satisfied: taming-transformers in /usr/local/lib/python3.11/dist-packages (from nemo_toolkit[all]) (0.0.1)\n",
            "Requirement already satisfied: torchdiffeq in /usr/local/lib/python3.11/dist-packages (from nemo_toolkit[all]) (0.2.5)\n",
            "Requirement already satisfied: torchsde in /usr/local/lib/python3.11/dist-packages (from nemo_toolkit[all]) (0.2.6)\n",
            "Requirement already satisfied: trimesh in /usr/local/lib/python3.11/dist-packages (from nemo_toolkit[all]) (4.6.8)\n",
            "Requirement already satisfied: pesq in /usr/local/lib/python3.11/dist-packages (from nemo_toolkit[all]) (0.0.4)\n",
            "Requirement already satisfied: pystoi in /usr/local/lib/python3.11/dist-packages (from nemo_toolkit[all]) (0.4.1)\n",
            "Requirement already satisfied: fastapi in /usr/local/lib/python3.11/dist-packages (from nemo_toolkit[all]) (0.115.12)\n",
            "Requirement already satisfied: nvidia-pytriton in /usr/local/lib/python3.11/dist-packages (from nemo_toolkit[all]) (0.5.14)\n",
            "Requirement already satisfied: pydantic-settings in /usr/local/lib/python3.11/dist-packages (from nemo_toolkit[all]) (2.9.1)\n",
            "Requirement already satisfied: uvicorn in /usr/local/lib/python3.11/dist-packages (from nemo_toolkit[all]) (0.34.2)\n",
            "Requirement already satisfied: lm-eval in /usr/local/lib/python3.11/dist-packages (from nemo_toolkit[all]) (0.4.8)\n",
            "Requirement already satisfied: typing_extensions>=4.8.0 in /usr/local/lib/python3.11/dist-packages (from bitsandbytes==0.45.0->nemo_toolkit[all]) (4.13.2)\n",
            "Requirement already satisfied: ipython in /usr/local/lib/python3.11/dist-packages (from mediapy==1.1.6->nemo_toolkit[all]) (7.34.0)\n",
            "Requirement already satisfied: Pillow in /usr/local/lib/python3.11/dist-packages (from mediapy==1.1.6->nemo_toolkit[all]) (11.2.1)\n",
            "Requirement already satisfied: multi-storage-client>=0.13.0 in /usr/local/lib/python3.11/dist-packages (from megatron-energon==5.2.0->nemo_toolkit[all]) (0.20.2)\n",
            "Requirement already satisfied: pyyaml in /usr/local/lib/python3.11/dist-packages (from megatron-energon==5.2.0->nemo_toolkit[all]) (6.0.2)\n",
            "Requirement already satisfied: s3fs in /usr/local/lib/python3.11/dist-packages (from megatron-energon==5.2.0->nemo_toolkit[all]) (0.4.2)\n",
            "Requirement already satisfied: llvmlite<0.45,>=0.44.0dev0 in /usr/local/lib/python3.11/dist-packages (from numba==0.61.0->nemo_toolkit[all]) (0.44.0)\n",
            "Requirement already satisfied: nvidia-modelopt-core==0.23.2 in /usr/local/lib/python3.11/dist-packages (from nvidia-modelopt==0.23.2->nvidia-modelopt[torch]==0.23.2; platform_system != \"Darwin\" and extra == \"all\"->nemo_toolkit[all]) (0.23.2)\n",
            "Requirement already satisfied: ninja in /usr/local/lib/python3.11/dist-packages (from nvidia-modelopt==0.23.2->nvidia-modelopt[torch]==0.23.2; platform_system != \"Darwin\" and extra == \"all\"->nemo_toolkit[all]) (1.11.1.4)\n",
            "Requirement already satisfied: pydantic>=2.0 in /usr/local/lib/python3.11/dist-packages (from nvidia-modelopt==0.23.2->nvidia-modelopt[torch]==0.23.2; platform_system != \"Darwin\" and extra == \"all\"->nemo_toolkit[all]) (2.11.4)\n",
            "Requirement already satisfied: rich in /usr/local/lib/python3.11/dist-packages (from nvidia-modelopt==0.23.2->nvidia-modelopt[torch]==0.23.2; platform_system != \"Darwin\" and extra == \"all\"->nemo_toolkit[all]) (13.9.4)\n",
            "Requirement already satisfied: pulp in /usr/local/lib/python3.11/dist-packages (from nvidia-modelopt[torch]==0.23.2; platform_system != \"Darwin\" and extra == \"all\"->nemo_toolkit[all]) (3.1.1)\n",
            "Requirement already satisfied: regex in /usr/local/lib/python3.11/dist-packages (from nvidia-modelopt[torch]==0.23.2; platform_system != \"Darwin\" and extra == \"all\"->nemo_toolkit[all]) (2024.11.6)\n",
            "Requirement already satisfied: safetensors in /usr/local/lib/python3.11/dist-packages (from nvidia-modelopt[torch]==0.23.2; platform_system != \"Darwin\" and extra == \"all\"->nemo_toolkit[all]) (0.5.3)\n",
            "Requirement already satisfied: torchprofile>=0.0.4 in /usr/local/lib/python3.11/dist-packages (from nvidia-modelopt[torch]==0.23.2; platform_system != \"Darwin\" and extra == \"all\"->nemo_toolkit[all]) (0.0.4)\n",
            "Requirement already satisfied: torchvision in /usr/local/lib/python3.11/dist-packages (from nvidia-modelopt[torch]==0.23.2; platform_system != \"Darwin\" and extra == \"all\"->nemo_toolkit[all]) (0.21.0+cu124)\n",
            "Requirement already satisfied: timm in /usr/local/lib/python3.11/dist-packages (from open_clip_torch==2.24.0->nemo_toolkit[all]) (1.0.15)\n",
            "Requirement already satisfied: requests>=2.26.0 in /usr/local/lib/python3.11/dist-packages (from tiktoken==0.7.0->nemo_toolkit[all]) (2.32.3)\n",
            "Requirement already satisfied: mypy-extensions>=0.4.3 in /usr/local/lib/python3.11/dist-packages (from black~=24.3->nemo_toolkit[all]) (1.1.0)\n",
            "Requirement already satisfied: pathspec>=0.9.0 in /usr/local/lib/python3.11/dist-packages (from black~=24.3->nemo_toolkit[all]) (0.12.1)\n",
            "Requirement already satisfied: platformdirs>=2 in /usr/local/lib/python3.11/dist-packages (from black~=24.3->nemo_toolkit[all]) (4.3.7)\n",
            "Requirement already satisfied: importlib-metadata in /usr/local/lib/python3.11/dist-packages (from diffusers>=0.19.3->nemo_toolkit[all]) (8.6.1)\n",
            "Requirement already satisfied: filelock in /usr/local/lib/python3.11/dist-packages (from diffusers>=0.19.3->nemo_toolkit[all]) (3.18.0)\n",
            "Requirement already satisfied: fsspec>=2023.5.0 in /usr/local/lib/python3.11/dist-packages (from huggingface_hub>=0.24->nemo_toolkit[all]) (2025.3.0)\n",
            "Requirement already satisfied: antlr4-python3-runtime==4.9.* in /usr/local/lib/python3.11/dist-packages (from hydra-core<=1.3.2,>1.3->nemo_toolkit[all]) (4.9.3)\n",
            "Requirement already satisfied: audioread>=2.1.9 in /usr/local/lib/python3.11/dist-packages (from lhotse>=1.26.0->nemo_toolkit[all]) (3.0.1)\n",
            "Requirement already satisfied: cytoolz>=0.10.1 in /usr/local/lib/python3.11/dist-packages (from lhotse>=1.26.0->nemo_toolkit[all]) (1.0.1)\n",
            "Requirement already satisfied: intervaltree>=3.1.0 in /usr/local/lib/python3.11/dist-packages (from lhotse>=1.26.0->nemo_toolkit[all]) (3.1.0)\n",
            "Requirement already satisfied: lilcom>=1.1.0 in /usr/local/lib/python3.11/dist-packages (from lhotse>=1.26.0->nemo_toolkit[all]) (1.8.1)\n",
            "Requirement already satisfied: joblib>=1.0 in /usr/local/lib/python3.11/dist-packages (from librosa>=0.10.2->nemo_toolkit[all]) (1.4.2)\n",
            "Requirement already satisfied: decorator>=4.3.0 in /usr/local/lib/python3.11/dist-packages (from librosa>=0.10.2->nemo_toolkit[all]) (4.4.2)\n",
            "Requirement already satisfied: pooch>=1.1 in /usr/local/lib/python3.11/dist-packages (from librosa>=0.10.2->nemo_toolkit[all]) (1.8.2)\n",
            "Requirement already satisfied: soxr>=0.3.2 in /usr/local/lib/python3.11/dist-packages (from librosa>=0.10.2->nemo_toolkit[all]) (0.5.0.post1)\n",
            "Requirement already satisfied: lazy_loader>=0.1 in /usr/local/lib/python3.11/dist-packages (from librosa>=0.10.2->nemo_toolkit[all]) (0.4)\n",
            "Requirement already satisfied: msgpack>=1.0 in /usr/local/lib/python3.11/dist-packages (from librosa>=0.10.2->nemo_toolkit[all]) (1.1.0)\n",
            "Requirement already satisfied: lightning-utilities<2.0,>=0.10.0 in /usr/local/lib/python3.11/dist-packages (from lightning<=2.4.0,>2.2.1->nemo_toolkit[all]) (0.14.3)\n",
            "Requirement already satisfied: pytorch-lightning in /usr/local/lib/python3.11/dist-packages (from lightning<=2.4.0,>2.2.1->nemo_toolkit[all]) (2.5.1.post0)\n",
            "Requirement already satisfied: contourpy>=1.0.1 in /usr/local/lib/python3.11/dist-packages (from matplotlib>=3.3.2->nemo_toolkit[all]) (1.3.2)\n",
            "Requirement already satisfied: cycler>=0.10 in /usr/local/lib/python3.11/dist-packages (from matplotlib>=3.3.2->nemo_toolkit[all]) (0.12.1)\n",
            "Requirement already satisfied: fonttools>=4.22.0 in /usr/local/lib/python3.11/dist-packages (from matplotlib>=3.3.2->nemo_toolkit[all]) (4.57.0)\n",
            "Requirement already satisfied: kiwisolver>=1.3.1 in /usr/local/lib/python3.11/dist-packages (from matplotlib>=3.3.2->nemo_toolkit[all]) (1.4.8)\n",
            "Requirement already satisfied: pyparsing>=2.3.1 in /usr/local/lib/python3.11/dist-packages (from matplotlib>=3.3.2->nemo_toolkit[all]) (3.2.3)\n",
            "Requirement already satisfied: six>=1.5 in /usr/local/lib/python3.11/dist-packages (from python-dateutil->nemo_toolkit[all]) (1.17.0)\n",
            "Requirement already satisfied: threadpoolctl>=3.1.0 in /usr/local/lib/python3.11/dist-packages (from scikit-learn->nemo_toolkit[all]) (3.6.0)\n",
            "Requirement already satisfied: cffi>=1.0 in /usr/local/lib/python3.11/dist-packages (from soundfile->nemo_toolkit[all]) (1.17.1)\n",
            "Requirement already satisfied: ml_dtypes>=0.3.1 in /usr/local/lib/python3.11/dist-packages (from tensorstore<0.1.72->nemo_toolkit[all]) (0.4.1)\n",
            "Requirement already satisfied: pybind11 in /usr/local/lib/python3.11/dist-packages (from texterrors<1.0.0->nemo_toolkit[all]) (2.13.6)\n",
            "Requirement already satisfied: plac in /usr/local/lib/python3.11/dist-packages (from texterrors<1.0.0->nemo_toolkit[all]) (1.4.5)\n",
            "Requirement already satisfied: loguru in /usr/local/lib/python3.11/dist-packages (from texterrors<1.0.0->nemo_toolkit[all]) (0.7.3)\n",
            "Requirement already satisfied: termcolor in /usr/local/lib/python3.11/dist-packages (from texterrors<1.0.0->nemo_toolkit[all]) (3.1.0)\n",
            "Requirement already satisfied: Levenshtein in /usr/local/lib/python3.11/dist-packages (from texterrors<1.0.0->nemo_toolkit[all]) (0.27.1)\n",
            "Requirement already satisfied: networkx in /usr/local/lib/python3.11/dist-packages (from torch->nemo_toolkit[all]) (3.4.2)\n",
            "Requirement already satisfied: jinja2 in /usr/local/lib/python3.11/dist-packages (from torch->nemo_toolkit[all]) (3.1.6)\n",
            "Requirement already satisfied: nvidia-cuda-nvrtc-cu12==12.4.127 in /usr/local/lib/python3.11/dist-packages (from torch->nemo_toolkit[all]) (12.4.127)\n",
            "Requirement already satisfied: nvidia-cuda-runtime-cu12==12.4.127 in /usr/local/lib/python3.11/dist-packages (from torch->nemo_toolkit[all]) (12.4.127)\n",
            "Requirement already satisfied: nvidia-cuda-cupti-cu12==12.4.127 in /usr/local/lib/python3.11/dist-packages (from torch->nemo_toolkit[all]) (12.4.127)\n",
            "Requirement already satisfied: nvidia-cudnn-cu12==9.1.0.70 in /usr/local/lib/python3.11/dist-packages (from torch->nemo_toolkit[all]) (9.1.0.70)\n",
            "Requirement already satisfied: nvidia-cublas-cu12==12.4.5.8 in /usr/local/lib/python3.11/dist-packages (from torch->nemo_toolkit[all]) (12.4.5.8)\n",
            "Requirement already satisfied: nvidia-cufft-cu12==11.2.1.3 in /usr/local/lib/python3.11/dist-packages (from torch->nemo_toolkit[all]) (11.2.1.3)\n",
            "Requirement already satisfied: nvidia-curand-cu12==10.3.5.147 in /usr/local/lib/python3.11/dist-packages (from torch->nemo_toolkit[all]) (10.3.5.147)\n",
            "Requirement already satisfied: nvidia-cusolver-cu12==11.6.1.9 in /usr/local/lib/python3.11/dist-packages (from torch->nemo_toolkit[all]) (11.6.1.9)\n",
            "Requirement already satisfied: nvidia-cusparse-cu12==12.3.1.170 in /usr/local/lib/python3.11/dist-packages (from torch->nemo_toolkit[all]) (12.3.1.170)\n",
            "Requirement already satisfied: nvidia-cusparselt-cu12==0.6.2 in /usr/local/lib/python3.11/dist-packages (from torch->nemo_toolkit[all]) (0.6.2)\n",
            "Requirement already satisfied: nvidia-nccl-cu12==2.21.5 in /usr/local/lib/python3.11/dist-packages (from torch->nemo_toolkit[all]) (2.21.5)\n",
            "Requirement already satisfied: nvidia-nvtx-cu12==12.4.127 in /usr/local/lib/python3.11/dist-packages (from torch->nemo_toolkit[all]) (12.4.127)\n",
            "Requirement already satisfied: nvidia-nvjitlink-cu12==12.4.127 in /usr/local/lib/python3.11/dist-packages (from torch->nemo_toolkit[all]) (12.4.127)\n",
            "Requirement already satisfied: triton==3.2.0 in /usr/local/lib/python3.11/dist-packages (from torch->nemo_toolkit[all]) (3.2.0)\n",
            "Requirement already satisfied: sympy==1.13.1 in /usr/local/lib/python3.11/dist-packages (from torch->nemo_toolkit[all]) (1.13.1)\n",
            "Requirement already satisfied: mpmath<1.4,>=1.1.0 in /usr/local/lib/python3.11/dist-packages (from sympy==1.13.1->torch->nemo_toolkit[all]) (1.3.0)\n",
            "Requirement already satisfied: tokenizers<0.22,>=0.21 in /usr/local/lib/python3.11/dist-packages (from transformers<=4.48.3,>=4.48.0->nemo_toolkit[all]) (0.21.1)\n",
            "Requirement already satisfied: asciitree in /usr/local/lib/python3.11/dist-packages (from zarr<3.0.0,>=2.18.2->nemo_toolkit[all]) (0.3.3)\n",
            "Requirement already satisfied: fasteners in /usr/local/lib/python3.11/dist-packages (from zarr<3.0.0,>=2.18.2->nemo_toolkit[all]) (0.19)\n",
            "Requirement already satisfied: numcodecs!=0.14.0,!=0.14.1,<0.16,>=0.10.0 in /usr/local/lib/python3.11/dist-packages (from zarr<3.0.0,>=2.18.2->nemo_toolkit[all]) (0.15.1)\n",
            "Requirement already satisfied: botocore<1.39.0,>=1.38.11 in /usr/local/lib/python3.11/dist-packages (from boto3->nemo_toolkit[all]) (1.38.11)\n",
            "Requirement already satisfied: jmespath<2.0.0,>=0.7.1 in /usr/local/lib/python3.11/dist-packages (from boto3->nemo_toolkit[all]) (1.0.1)\n",
            "Requirement already satisfied: s3transfer<0.13.0,>=0.12.0 in /usr/local/lib/python3.11/dist-packages (from boto3->nemo_toolkit[all]) (0.12.0)\n",
            "Requirement already satisfied: pyarrow>=15.0.0 in /usr/local/lib/python3.11/dist-packages (from datasets->nemo_toolkit[all]) (18.1.0)\n",
            "Requirement already satisfied: dill<0.3.9,>=0.3.0 in /usr/local/lib/python3.11/dist-packages (from datasets->nemo_toolkit[all]) (0.3.8)\n",
            "Requirement already satisfied: xxhash in /usr/local/lib/python3.11/dist-packages (from datasets->nemo_toolkit[all]) (3.5.0)\n",
            "Requirement already satisfied: multiprocess<0.70.17 in /usr/local/lib/python3.11/dist-packages (from datasets->nemo_toolkit[all]) (0.70.16)\n",
            "Requirement already satisfied: starlette<0.47.0,>=0.40.0 in /usr/local/lib/python3.11/dist-packages (from fastapi->nemo_toolkit[all]) (0.46.2)\n",
            "Requirement already satisfied: absl-py in /usr/local/lib/python3.11/dist-packages (from fiddle->nemo_toolkit[all]) (1.4.0)\n",
            "Requirement already satisfied: graphviz in /usr/local/lib/python3.11/dist-packages (from fiddle->nemo_toolkit[all]) (0.20.3)\n",
            "Requirement already satisfied: libcst in /usr/local/lib/python3.11/dist-packages (from fiddle->nemo_toolkit[all]) (1.7.0)\n",
            "Requirement already satisfied: aniso8601>=0.82 in /usr/local/lib/python3.11/dist-packages (from flask_restful->nemo_toolkit[all]) (10.0.1)\n",
            "Requirement already satisfied: Flask>=0.8 in /usr/local/lib/python3.11/dist-packages (from flask_restful->nemo_toolkit[all]) (3.1.0)\n",
            "Requirement already satisfied: pytz in /usr/local/lib/python3.11/dist-packages (from flask_restful->nemo_toolkit[all]) (2025.2)\n",
            "Requirement already satisfied: wcwidth in /usr/local/lib/python3.11/dist-packages (from ftfy->nemo_toolkit[all]) (0.2.13)\n",
            "Requirement already satisfied: distance>=0.1.3 in /usr/local/lib/python3.11/dist-packages (from g2p_en->nemo_toolkit[all]) (0.1.3)\n",
            "Requirement already satisfied: more_itertools>=8.5.0 in /usr/local/lib/python3.11/dist-packages (from inflect->nemo_toolkit[all]) (10.7.0)\n",
            "Requirement already satisfied: typeguard>=4.0.1 in /usr/local/lib/python3.11/dist-packages (from inflect->nemo_toolkit[all]) (4.4.2)\n",
            "Requirement already satisfied: beautifulsoup4 in /usr/local/lib/python3.11/dist-packages (from gdown->nemo_toolkit[all]) (4.13.4)\n",
            "Requirement already satisfied: kornia_rs>=0.1.9 in /usr/local/lib/python3.11/dist-packages (from kornia->nemo_toolkit[all]) (0.1.9)\n",
            "Requirement already satisfied: accelerate>=0.26.0 in /usr/local/lib/python3.11/dist-packages (from lm-eval->nemo_toolkit[all]) (1.6.0)\n",
            "Requirement already satisfied: evaluate in /usr/local/lib/python3.11/dist-packages (from lm-eval->nemo_toolkit[all]) (0.4.3)\n",
            "Requirement already satisfied: jsonlines in /usr/local/lib/python3.11/dist-packages (from lm-eval->nemo_toolkit[all]) (4.0.0)\n",
            "Requirement already satisfied: numexpr in /usr/local/lib/python3.11/dist-packages (from lm-eval->nemo_toolkit[all]) (2.10.2)\n",
            "Requirement already satisfied: pytablewriter in /usr/local/lib/python3.11/dist-packages (from lm-eval->nemo_toolkit[all]) (1.2.1)\n",
            "Requirement already satisfied: sqlitedict in /usr/local/lib/python3.11/dist-packages (from lm-eval->nemo_toolkit[all]) (2.1.0)\n",
            "Requirement already satisfied: tqdm-multiprocess in /usr/local/lib/python3.11/dist-packages (from lm-eval->nemo_toolkit[all]) (0.0.11)\n",
            "Requirement already satisfied: zstandard in /usr/local/lib/python3.11/dist-packages (from lm-eval->nemo_toolkit[all]) (0.23.0)\n",
            "Requirement already satisfied: word2number in /usr/local/lib/python3.11/dist-packages (from lm-eval->nemo_toolkit[all]) (1.1)\n",
            "Requirement already satisfied: psutil in /usr/local/lib/python3.11/dist-packages (from peft->nemo_toolkit[all]) (5.9.5)\n",
            "Requirement already satisfied: portalocker in /usr/local/lib/python3.11/dist-packages (from sacrebleu->nemo_toolkit[all]) (3.1.1)\n",
            "Requirement already satisfied: colorama in /usr/local/lib/python3.11/dist-packages (from sacrebleu->nemo_toolkit[all]) (0.4.6)\n",
            "Requirement already satisfied: lxml in /usr/local/lib/python3.11/dist-packages (from sacrebleu->nemo_toolkit[all]) (5.4.0)\n",
            "Requirement already satisfied: pynini==2.1.6.post1 in /usr/local/lib/python3.11/dist-packages (from nemo_text_processing->nemo_toolkit[all]) (2.1.6.post1)\n",
            "Requirement already satisfied: pyzmq>=23.0 in /usr/local/lib/python3.11/dist-packages (from nvidia-pytriton->nemo_toolkit[all]) (24.0.1)\n",
            "Requirement already satisfied: sh>=1.14 in /usr/local/lib/python3.11/dist-packages (from nvidia-pytriton->nemo_toolkit[all]) (2.2.2)\n",
            "Requirement already satisfied: tritonclient~=2.50 in /usr/local/lib/python3.11/dist-packages (from tritonclient[grpc,http]~=2.50->nvidia-pytriton->nemo_toolkit[all]) (2.51.0)\n",
            "Requirement already satisfied: grpcio>=1.64.3 in /usr/local/lib/python3.11/dist-packages (from nvidia-pytriton->nemo_toolkit[all]) (1.71.0)\n",
            "Requirement already satisfied: typing_inspect>=0.6.0 in /usr/local/lib/python3.11/dist-packages (from nvidia-pytriton->nemo_toolkit[all]) (0.9.0)\n",
            "Requirement already satisfied: typer>=0.9.0 in /usr/local/lib/python3.11/dist-packages (from nvidia-pytriton->nemo_toolkit[all]) (0.15.3)\n",
            "Requirement already satisfied: alembic>=1.5.0 in /usr/local/lib/python3.11/dist-packages (from optuna->nemo_toolkit[all]) (1.15.2)\n",
            "Requirement already satisfied: colorlog in /usr/local/lib/python3.11/dist-packages (from optuna->nemo_toolkit[all]) (6.9.0)\n",
            "Requirement already satisfied: sqlalchemy>=1.4.2 in /usr/local/lib/python3.11/dist-packages (from optuna->nemo_toolkit[all]) (2.0.40)\n",
            "Requirement already satisfied: tzdata>=2022.7 in /usr/local/lib/python3.11/dist-packages (from pandas->nemo_toolkit[all]) (2025.2)\n",
            "Requirement already satisfied: sortedcontainers>=2.0.4 in /usr/local/lib/python3.11/dist-packages (from pyannote.core->nemo_toolkit[all]) (2.4.0)\n",
            "Requirement already satisfied: pyannote.database>=4.0.1 in /usr/local/lib/python3.11/dist-packages (from pyannote.metrics->nemo_toolkit[all]) (5.1.3)\n",
            "Requirement already satisfied: docopt>=0.6.2 in /usr/local/lib/python3.11/dist-packages (from pyannote.metrics->nemo_toolkit[all]) (0.6.2)\n",
            "Requirement already satisfied: python-dotenv>=0.21.0 in /usr/local/lib/python3.11/dist-packages (from pydantic-settings->nemo_toolkit[all]) (1.1.0)\n",
            "Requirement already satisfied: typing-inspection>=0.4.0 in /usr/local/lib/python3.11/dist-packages (from pydantic-settings->nemo_toolkit[all]) (0.4.0)\n",
            "Requirement already satisfied: future>=0.16.0 in /usr/local/lib/python3.11/dist-packages (from pyloudnorm->nemo_toolkit[all]) (1.0.0)\n",
            "Requirement already satisfied: iniconfig in /usr/local/lib/python3.11/dist-packages (from pytest->nemo_toolkit[all]) (2.1.0)\n",
            "Requirement already satisfied: pluggy<2,>=1.5 in /usr/local/lib/python3.11/dist-packages (from pytest->nemo_toolkit[all]) (1.5.0)\n",
            "Requirement already satisfied: pytest-cover in /usr/local/lib/python3.11/dist-packages (from pytest-coverage->nemo_toolkit[all]) (3.0.0)\n",
            "Requirement already satisfied: ruamel.yaml.clib>=0.2.7 in /usr/local/lib/python3.11/dist-packages (from ruamel.yaml->nemo_toolkit[all]) (0.2.12)\n",
            "Requirement already satisfied: sphinxcontrib-applehelp>=1.0.7 in /usr/local/lib/python3.11/dist-packages (from sphinx->nemo_toolkit[all]) (2.0.0)\n",
            "Requirement already satisfied: sphinxcontrib-devhelp>=1.0.6 in /usr/local/lib/python3.11/dist-packages (from sphinx->nemo_toolkit[all]) (2.0.0)\n",
            "Requirement already satisfied: sphinxcontrib-htmlhelp>=2.0.6 in /usr/local/lib/python3.11/dist-packages (from sphinx->nemo_toolkit[all]) (2.1.0)\n",
            "Requirement already satisfied: sphinxcontrib-jsmath>=1.0.1 in /usr/local/lib/python3.11/dist-packages (from sphinx->nemo_toolkit[all]) (1.0.1)\n",
            "Requirement already satisfied: sphinxcontrib-qthelp>=1.0.6 in /usr/local/lib/python3.11/dist-packages (from sphinx->nemo_toolkit[all]) (2.0.0)\n",
            "Requirement already satisfied: sphinxcontrib-serializinghtml>=1.1.9 in /usr/local/lib/python3.11/dist-packages (from sphinx->nemo_toolkit[all]) (2.0.0)\n",
            "Requirement already satisfied: Pygments>=2.17 in /usr/local/lib/python3.11/dist-packages (from sphinx->nemo_toolkit[all]) (2.19.1)\n",
            "Requirement already satisfied: docutils<0.22,>=0.20 in /usr/local/lib/python3.11/dist-packages (from sphinx->nemo_toolkit[all]) (0.21.2)\n",
            "Requirement already satisfied: snowballstemmer>=2.2 in /usr/local/lib/python3.11/dist-packages (from sphinx->nemo_toolkit[all]) (2.2.0)\n",
            "Requirement already satisfied: babel>=2.13 in /usr/local/lib/python3.11/dist-packages (from sphinx->nemo_toolkit[all]) (2.17.0)\n",
            "Requirement already satisfied: alabaster>=0.7.14 in /usr/local/lib/python3.11/dist-packages (from sphinx->nemo_toolkit[all]) (1.0.0)\n",
            "Requirement already satisfied: imagesize>=1.3 in /usr/local/lib/python3.11/dist-packages (from sphinx->nemo_toolkit[all]) (1.4.1)\n",
            "Requirement already satisfied: roman-numerals-py>=1.0.0 in /usr/local/lib/python3.11/dist-packages (from sphinx->nemo_toolkit[all]) (3.1.0)\n",
            "Requirement already satisfied: pybtex>=0.24 in /usr/local/lib/python3.11/dist-packages (from sphinxcontrib-bibtex->nemo_toolkit[all]) (0.24.0)\n",
            "Requirement already satisfied: pybtex-docutils>=1.0.0 in /usr/local/lib/python3.11/dist-packages (from sphinxcontrib-bibtex->nemo_toolkit[all]) (1.0.3)\n",
            "Requirement already satisfied: markdown>=2.6.8 in /usr/local/lib/python3.11/dist-packages (from tensorboard->nemo_toolkit[all]) (3.8)\n",
            "Requirement already satisfied: tensorboard-data-server<0.8.0,>=0.7.0 in /usr/local/lib/python3.11/dist-packages (from tensorboard->nemo_toolkit[all]) (0.7.2)\n",
            "Requirement already satisfied: werkzeug>=1.0.1 in /usr/local/lib/python3.11/dist-packages (from tensorboard->nemo_toolkit[all]) (3.1.3)\n",
            "Requirement already satisfied: trampoline>=0.1.2 in /usr/local/lib/python3.11/dist-packages (from torchsde->nemo_toolkit[all]) (0.1.2)\n",
            "Requirement already satisfied: h11>=0.8 in /usr/local/lib/python3.11/dist-packages (from uvicorn->nemo_toolkit[all]) (0.16.0)\n",
            "Requirement already satisfied: docker-pycreds>=0.4.0 in /usr/local/lib/python3.11/dist-packages (from wandb->nemo_toolkit[all]) (0.4.0)\n",
            "Requirement already satisfied: gitpython!=3.1.29,>=1.0.0 in /usr/local/lib/python3.11/dist-packages (from wandb->nemo_toolkit[all]) (3.1.44)\n",
            "Requirement already satisfied: sentry-sdk>=2.0.0 in /usr/local/lib/python3.11/dist-packages (from wandb->nemo_toolkit[all]) (2.27.0)\n",
            "Requirement already satisfied: setproctitle in /usr/local/lib/python3.11/dist-packages (from wandb->nemo_toolkit[all]) (1.3.6)\n",
            "Requirement already satisfied: Mako in /usr/lib/python3/dist-packages (from alembic>=1.5.0->optuna->nemo_toolkit[all]) (1.1.3)\n",
            "Requirement already satisfied: urllib3!=2.2.0,<3,>=1.25.4 in /usr/local/lib/python3.11/dist-packages (from botocore<1.39.0,>=1.38.11->boto3->nemo_toolkit[all]) (2.4.0)\n",
            "Requirement already satisfied: pycparser in /usr/local/lib/python3.11/dist-packages (from cffi>=1.0->soundfile->nemo_toolkit[all]) (2.22)\n",
            "Requirement already satisfied: toolz>=0.8.0 in /usr/local/lib/python3.11/dist-packages (from cytoolz>=0.10.1->lhotse>=1.26.0->nemo_toolkit[all]) (0.12.1)\n",
            "Requirement already satisfied: itsdangerous>=2.2 in /usr/local/lib/python3.11/dist-packages (from Flask>=0.8->flask_restful->nemo_toolkit[all]) (2.2.0)\n",
            "Requirement already satisfied: blinker>=1.9 in /usr/local/lib/python3.11/dist-packages (from Flask>=0.8->flask_restful->nemo_toolkit[all]) (1.9.0)\n",
            "Requirement already satisfied: aiohttp!=4.0.0a0,!=4.0.0a1 in /usr/local/lib/python3.11/dist-packages (from fsspec[http]<2026.0,>=2022.5.0->lightning<=2.4.0,>2.2.1->nemo_toolkit[all]) (3.11.15)\n",
            "Requirement already satisfied: gitdb<5,>=4.0.1 in /usr/local/lib/python3.11/dist-packages (from gitpython!=3.1.29,>=1.0.0->wandb->nemo_toolkit[all]) (4.0.12)\n",
            "Requirement already satisfied: zipp>=3.20 in /usr/local/lib/python3.11/dist-packages (from importlib-metadata->diffusers>=0.19.3->nemo_toolkit[all]) (3.21.0)\n",
            "Requirement already satisfied: MarkupSafe>=2.0 in /usr/local/lib/python3.11/dist-packages (from jinja2->torch->nemo_toolkit[all]) (3.0.2)\n",
            "Requirement already satisfied: jsonschema<5.0,>=4.0 in /usr/local/lib/python3.11/dist-packages (from multi-storage-client>=0.13.0->megatron-energon==5.2.0->nemo_toolkit[all]) (4.23.0)\n",
            "Requirement already satisfied: opentelemetry-api<2.0,>=1.24 in /usr/local/lib/python3.11/dist-packages (from multi-storage-client>=0.13.0->megatron-energon==5.2.0->nemo_toolkit[all]) (1.32.1)\n",
            "Requirement already satisfied: deprecated in /usr/local/lib/python3.11/dist-packages (from numcodecs!=0.14.0,!=0.14.1,<0.16,>=0.10.0->zarr<3.0.0,>=2.18.2->nemo_toolkit[all]) (1.2.18)\n",
            "Requirement already satisfied: latexcodec>=1.0.4 in /usr/local/lib/python3.11/dist-packages (from pybtex>=0.24->sphinxcontrib-bibtex->nemo_toolkit[all]) (3.0.0)\n",
            "Requirement already satisfied: annotated-types>=0.6.0 in /usr/local/lib/python3.11/dist-packages (from pydantic>=2.0->nvidia-modelopt==0.23.2->nvidia-modelopt[torch]==0.23.2; platform_system != \"Darwin\" and extra == \"all\"->nemo_toolkit[all]) (0.7.0)\n",
            "Requirement already satisfied: pydantic-core==2.33.2 in /usr/local/lib/python3.11/dist-packages (from pydantic>=2.0->nvidia-modelopt==0.23.2->nvidia-modelopt[torch]==0.23.2; platform_system != \"Darwin\" and extra == \"all\"->nemo_toolkit[all]) (2.33.2)\n",
            "Requirement already satisfied: charset-normalizer<4,>=2 in /usr/local/lib/python3.11/dist-packages (from requests>=2.26.0->tiktoken==0.7.0->nemo_toolkit[all]) (3.4.1)\n",
            "Requirement already satisfied: idna<4,>=2.5 in /usr/local/lib/python3.11/dist-packages (from requests>=2.26.0->tiktoken==0.7.0->nemo_toolkit[all]) (3.10)\n",
            "Requirement already satisfied: certifi>=2017.4.17 in /usr/local/lib/python3.11/dist-packages (from requests>=2.26.0->tiktoken==0.7.0->nemo_toolkit[all]) (2025.4.26)\n",
            "Requirement already satisfied: markdown-it-py>=2.2.0 in /usr/local/lib/python3.11/dist-packages (from rich->nvidia-modelopt==0.23.2->nvidia-modelopt[torch]==0.23.2; platform_system != \"Darwin\" and extra == \"all\"->nemo_toolkit[all]) (3.0.0)\n",
            "Requirement already satisfied: greenlet>=1 in /usr/local/lib/python3.11/dist-packages (from sqlalchemy>=1.4.2->optuna->nemo_toolkit[all]) (3.2.1)\n",
            "Requirement already satisfied: anyio<5,>=3.6.2 in /usr/local/lib/python3.11/dist-packages (from starlette<0.47.0,>=0.40.0->fastapi->nemo_toolkit[all]) (4.9.0)\n",
            "Requirement already satisfied: python-rapidjson>=0.9.1 in /usr/local/lib/python3.11/dist-packages (from tritonclient~=2.50->tritonclient[grpc,http]~=2.50->nvidia-pytriton->nemo_toolkit[all]) (1.20)\n",
            "Requirement already satisfied: geventhttpclient<=2.0.2,>=1.4.4 in /usr/local/lib/python3.11/dist-packages (from tritonclient[grpc,http]~=2.50->nvidia-pytriton->nemo_toolkit[all]) (2.0.2)\n",
            "Requirement already satisfied: shellingham>=1.3.0 in /usr/local/lib/python3.11/dist-packages (from typer>=0.9.0->nvidia-pytriton->nemo_toolkit[all]) (1.5.4)\n",
            "Requirement already satisfied: soupsieve>1.2 in /usr/local/lib/python3.11/dist-packages (from beautifulsoup4->gdown->nemo_toolkit[all]) (2.7)\n",
            "Requirement already satisfied: jedi>=0.16 in /usr/local/lib/python3.11/dist-packages (from ipython->mediapy==1.1.6->nemo_toolkit[all]) (0.19.2)\n",
            "Requirement already satisfied: pickleshare in /usr/local/lib/python3.11/dist-packages (from ipython->mediapy==1.1.6->nemo_toolkit[all]) (0.7.5)\n",
            "Requirement already satisfied: traitlets>=4.2 in /usr/local/lib/python3.11/dist-packages (from ipython->mediapy==1.1.6->nemo_toolkit[all]) (5.7.1)\n",
            "Requirement already satisfied: prompt-toolkit!=3.0.0,!=3.0.1,<3.1.0,>=2.0.0 in /usr/local/lib/python3.11/dist-packages (from ipython->mediapy==1.1.6->nemo_toolkit[all]) (3.0.51)\n",
            "Requirement already satisfied: backcall in /usr/local/lib/python3.11/dist-packages (from ipython->mediapy==1.1.6->nemo_toolkit[all]) (0.2.0)\n",
            "Requirement already satisfied: matplotlib-inline in /usr/local/lib/python3.11/dist-packages (from ipython->mediapy==1.1.6->nemo_toolkit[all]) (0.1.7)\n",
            "Requirement already satisfied: pexpect>4.3 in /usr/local/lib/python3.11/dist-packages (from ipython->mediapy==1.1.6->nemo_toolkit[all]) (4.9.0)\n",
            "Requirement already satisfied: attrs>=19.2.0 in /usr/local/lib/python3.11/dist-packages (from jsonlines->lm-eval->nemo_toolkit[all]) (25.3.0)\n",
            "Requirement already satisfied: DataProperty<2,>=1.1.0 in /usr/local/lib/python3.11/dist-packages (from pytablewriter->lm-eval->nemo_toolkit[all]) (1.1.0)\n",
            "Requirement already satisfied: mbstrdecoder<2,>=1.0.0 in /usr/local/lib/python3.11/dist-packages (from pytablewriter->lm-eval->nemo_toolkit[all]) (1.1.4)\n",
            "Requirement already satisfied: pathvalidate<4,>=2.3.0 in /usr/local/lib/python3.11/dist-packages (from pytablewriter->lm-eval->nemo_toolkit[all]) (3.2.3)\n",
            "Requirement already satisfied: tabledata<2,>=1.3.1 in /usr/local/lib/python3.11/dist-packages (from pytablewriter->lm-eval->nemo_toolkit[all]) (1.3.4)\n",
            "Requirement already satisfied: tcolorpy<1,>=0.0.5 in /usr/local/lib/python3.11/dist-packages (from pytablewriter->lm-eval->nemo_toolkit[all]) (0.1.7)\n",
            "Requirement already satisfied: typepy<2,>=1.3.2 in /usr/local/lib/python3.11/dist-packages (from typepy[datetime]<2,>=1.3.2->pytablewriter->lm-eval->nemo_toolkit[all]) (1.3.4)\n",
            "Requirement already satisfied: pytest-cov>=2.0 in /usr/local/lib/python3.11/dist-packages (from pytest-cover->pytest-coverage->nemo_toolkit[all]) (6.1.1)\n",
            "Requirement already satisfied: PySocks!=1.5.7,>=1.5.6 in /usr/local/lib/python3.11/dist-packages (from requests[socks]->gdown->nemo_toolkit[all]) (1.7.1)\n",
            "Requirement already satisfied: aiohappyeyeballs>=2.3.0 in /usr/local/lib/python3.11/dist-packages (from aiohttp!=4.0.0a0,!=4.0.0a1->fsspec[http]<2026.0,>=2022.5.0->lightning<=2.4.0,>2.2.1->nemo_toolkit[all]) (2.6.1)\n",
            "Requirement already satisfied: aiosignal>=1.1.2 in /usr/local/lib/python3.11/dist-packages (from aiohttp!=4.0.0a0,!=4.0.0a1->fsspec[http]<2026.0,>=2022.5.0->lightning<=2.4.0,>2.2.1->nemo_toolkit[all]) (1.3.2)\n",
            "Requirement already satisfied: frozenlist>=1.1.1 in /usr/local/lib/python3.11/dist-packages (from aiohttp!=4.0.0a0,!=4.0.0a1->fsspec[http]<2026.0,>=2022.5.0->lightning<=2.4.0,>2.2.1->nemo_toolkit[all]) (1.6.0)\n",
            "Requirement already satisfied: multidict<7.0,>=4.5 in /usr/local/lib/python3.11/dist-packages (from aiohttp!=4.0.0a0,!=4.0.0a1->fsspec[http]<2026.0,>=2022.5.0->lightning<=2.4.0,>2.2.1->nemo_toolkit[all]) (6.4.3)\n",
            "Requirement already satisfied: propcache>=0.2.0 in /usr/local/lib/python3.11/dist-packages (from aiohttp!=4.0.0a0,!=4.0.0a1->fsspec[http]<2026.0,>=2022.5.0->lightning<=2.4.0,>2.2.1->nemo_toolkit[all]) (0.3.1)\n",
            "Requirement already satisfied: yarl<2.0,>=1.17.0 in /usr/local/lib/python3.11/dist-packages (from aiohttp!=4.0.0a0,!=4.0.0a1->fsspec[http]<2026.0,>=2022.5.0->lightning<=2.4.0,>2.2.1->nemo_toolkit[all]) (1.20.0)\n",
            "Requirement already satisfied: sniffio>=1.1 in /usr/local/lib/python3.11/dist-packages (from anyio<5,>=3.6.2->starlette<0.47.0,>=0.40.0->fastapi->nemo_toolkit[all]) (1.3.1)\n",
            "Requirement already satisfied: gevent>=0.13 in /usr/local/lib/python3.11/dist-packages (from geventhttpclient<=2.0.2,>=1.4.4->tritonclient[grpc,http]~=2.50->nvidia-pytriton->nemo_toolkit[all]) (25.4.2)\n",
            "Requirement already satisfied: brotli in /usr/local/lib/python3.11/dist-packages (from geventhttpclient<=2.0.2,>=1.4.4->tritonclient[grpc,http]~=2.50->nvidia-pytriton->nemo_toolkit[all]) (1.1.0)\n",
            "Requirement already satisfied: smmap<6,>=3.0.1 in /usr/local/lib/python3.11/dist-packages (from gitdb<5,>=4.0.1->gitpython!=3.1.29,>=1.0.0->wandb->nemo_toolkit[all]) (5.0.2)\n",
            "Requirement already satisfied: parso<0.9.0,>=0.8.4 in /usr/local/lib/python3.11/dist-packages (from jedi>=0.16->ipython->mediapy==1.1.6->nemo_toolkit[all]) (0.8.4)\n",
            "Requirement already satisfied: jsonschema-specifications>=2023.03.6 in /usr/local/lib/python3.11/dist-packages (from jsonschema<5.0,>=4.0->multi-storage-client>=0.13.0->megatron-energon==5.2.0->nemo_toolkit[all]) (2025.4.1)\n",
            "Requirement already satisfied: referencing>=0.28.4 in /usr/local/lib/python3.11/dist-packages (from jsonschema<5.0,>=4.0->multi-storage-client>=0.13.0->megatron-energon==5.2.0->nemo_toolkit[all]) (0.36.2)\n",
            "Requirement already satisfied: rpds-py>=0.7.1 in /usr/local/lib/python3.11/dist-packages (from jsonschema<5.0,>=4.0->multi-storage-client>=0.13.0->megatron-energon==5.2.0->nemo_toolkit[all]) (0.24.0)\n",
            "Requirement already satisfied: mdurl~=0.1 in /usr/local/lib/python3.11/dist-packages (from markdown-it-py>=2.2.0->rich->nvidia-modelopt==0.23.2->nvidia-modelopt[torch]==0.23.2; platform_system != \"Darwin\" and extra == \"all\"->nemo_toolkit[all]) (0.1.2)\n",
            "Requirement already satisfied: chardet<6,>=3.0.4 in /usr/local/lib/python3.11/dist-packages (from mbstrdecoder<2,>=1.0.0->pytablewriter->lm-eval->nemo_toolkit[all]) (5.2.0)\n",
            "Requirement already satisfied: ptyprocess>=0.5 in /usr/local/lib/python3.11/dist-packages (from pexpect>4.3->ipython->mediapy==1.1.6->nemo_toolkit[all]) (0.7.0)\n",
            "Requirement already satisfied: zope.event in /usr/local/lib/python3.11/dist-packages (from gevent>=0.13->geventhttpclient<=2.0.2,>=1.4.4->tritonclient[grpc,http]~=2.50->nvidia-pytriton->nemo_toolkit[all]) (5.0)\n",
            "Requirement already satisfied: zope.interface in /usr/local/lib/python3.11/dist-packages (from gevent>=0.13->geventhttpclient<=2.0.2,>=1.4.4->tritonclient[grpc,http]~=2.50->nvidia-pytriton->nemo_toolkit[all]) (7.2)\n"
          ]
        }
      ]
    },
    {
      "cell_type": "code",
      "source": [
        "# should verify to 2.2.1 Do not proceed if not verified\n",
        "import nemo\n",
        "print(nemo.__version__)"
      ],
      "metadata": {
        "colab": {
          "base_uri": "https://localhost:8080/"
        },
        "id": "3-OSwJ3PwakF",
        "outputId": "f1a02480-ec96-4796-e8d0-8664596cdccd"
      },
      "execution_count": 3,
      "outputs": [
        {
          "output_type": "stream",
          "name": "stdout",
          "text": [
            "2.2.1\n"
          ]
        }
      ]
    },
    {
      "cell_type": "markdown",
      "source": [
        "If you work with the LLM and Multimodal domains, there are three additional dependencies: NVIDIA Megatron Core, NVIDIA Apex and NVIDIA Transformer Engine.\n",
        "\n",
        "https://docs.nvidia.com/nemo-framework/user-guide/latest/installation.html\n",
        "\n",
        "https://github.com/NVIDIA/Megatron-LM/tree/main/megatron/core\n",
        "## megatron core\n",
        "https://pypi.org/project/megatron-core/\n",
        "## transformer engine\n",
        "https://github.com/NVIDIA/TransformerEngine\n",
        "## apex\n",
        "https://github.com/NVIDIA/apex\n",
        "\n",
        "## have to build apex on colab. There is no pypi repo!\n",
        "\n",
        "https://stackoverflow.com/questions/68558286/how-to-install-nvidia-apex\n"
      ],
      "metadata": {
        "id": "c6yBp-bMxIgF"
      }
    },
    {
      "cell_type": "code",
      "source": [
        "# requires restart\n",
        "!pip install git+https://github.com/NVIDIA/NeMo-Run.git"
      ],
      "metadata": {
        "colab": {
          "base_uri": "https://localhost:8080/",
          "height": 1000
        },
        "id": "-D4qupiazNEs",
        "outputId": "723906a0-f39e-4b2b-88ac-ba06d4fa55d0"
      },
      "execution_count": 4,
      "outputs": [
        {
          "output_type": "stream",
          "name": "stdout",
          "text": [
            "Collecting git+https://github.com/NVIDIA/NeMo-Run.git\n",
            "  Cloning https://github.com/NVIDIA/NeMo-Run.git to /tmp/pip-req-build-ftow3tl0\n",
            "  Running command git clone --filter=blob:none --quiet https://github.com/NVIDIA/NeMo-Run.git /tmp/pip-req-build-ftow3tl0\n",
            "  Resolved https://github.com/NVIDIA/NeMo-Run.git to commit 67de154e4c6381ecaace51752f26295055d69347\n",
            "  Installing build dependencies ... \u001b[?25l\u001b[?25hdone\n",
            "  Getting requirements to build wheel ... \u001b[?25l\u001b[?25hdone\n",
            "  Preparing metadata (pyproject.toml) ... \u001b[?25l\u001b[?25hdone\n",
            "Requirement already satisfied: catalogue>=2.0.10 in /usr/local/lib/python3.11/dist-packages (from nemo_run==0.5.0rc0.dev0) (2.0.10)\n",
            "Collecting cryptography<43.0.0 (from nemo_run==0.5.0rc0.dev0)\n",
            "  Downloading cryptography-42.0.8-cp39-abi3-manylinux_2_28_x86_64.whl.metadata (5.3 kB)\n",
            "Collecting fabric>=3.2.2 (from nemo_run==0.5.0rc0.dev0)\n",
            "  Downloading fabric-3.2.2-py3-none-any.whl.metadata (3.5 kB)\n",
            "Requirement already satisfied: fiddle>=0.3.0 in /usr/local/lib/python3.11/dist-packages (from nemo_run==0.5.0rc0.dev0) (0.3.0)\n",
            "Collecting inquirerpy>=0.3.4 (from nemo_run==0.5.0rc0.dev0)\n",
            "  Downloading InquirerPy-0.3.4-py3-none-any.whl.metadata (8.1 kB)\n",
            "Requirement already satisfied: jinja2>=3.1.4 in /usr/local/lib/python3.11/dist-packages (from nemo_run==0.5.0rc0.dev0) (3.1.6)\n",
            "Requirement already satisfied: networkx>=3.3 in /usr/local/lib/python3.11/dist-packages (from nemo_run==0.5.0rc0.dev0) (3.4.2)\n",
            "Requirement already satisfied: omegaconf>=2.3.0 in /usr/local/lib/python3.11/dist-packages (from nemo_run==0.5.0rc0.dev0) (2.3.0)\n",
            "Requirement already satisfied: packaging in /usr/local/lib/python3.11/dist-packages (from nemo_run==0.5.0rc0.dev0) (24.2)\n",
            "Requirement already satisfied: rich>=13.7.1 in /usr/local/lib/python3.11/dist-packages (from nemo_run==0.5.0rc0.dev0) (13.9.4)\n",
            "Requirement already satisfied: toml in /usr/local/lib/python3.11/dist-packages (from nemo_run==0.5.0rc0.dev0) (0.10.2)\n",
            "Collecting torchx>=0.7.0 (from nemo_run==0.5.0rc0.dev0)\n",
            "  Downloading torchx-0.7.0-py3-none-any.whl.metadata (6.2 kB)\n",
            "Requirement already satisfied: typer>=0.12.3 in /usr/local/lib/python3.11/dist-packages (from nemo_run==0.5.0rc0.dev0) (0.15.3)\n",
            "Requirement already satisfied: cffi>=1.12 in /usr/local/lib/python3.11/dist-packages (from cryptography<43.0.0->nemo_run==0.5.0rc0.dev0) (1.17.1)\n",
            "Collecting invoke>=2.0 (from fabric>=3.2.2->nemo_run==0.5.0rc0.dev0)\n",
            "  Downloading invoke-2.2.0-py3-none-any.whl.metadata (3.3 kB)\n",
            "Collecting paramiko>=2.4 (from fabric>=3.2.2->nemo_run==0.5.0rc0.dev0)\n",
            "  Downloading paramiko-3.5.1-py3-none-any.whl.metadata (4.6 kB)\n",
            "Collecting decorator>=5 (from fabric>=3.2.2->nemo_run==0.5.0rc0.dev0)\n",
            "  Downloading decorator-5.2.1-py3-none-any.whl.metadata (3.9 kB)\n",
            "Requirement already satisfied: deprecated>=1.2 in /usr/local/lib/python3.11/dist-packages (from fabric>=3.2.2->nemo_run==0.5.0rc0.dev0) (1.2.18)\n",
            "Requirement already satisfied: absl-py in /usr/local/lib/python3.11/dist-packages (from fiddle>=0.3.0->nemo_run==0.5.0rc0.dev0) (1.4.0)\n",
            "Requirement already satisfied: graphviz in /usr/local/lib/python3.11/dist-packages (from fiddle>=0.3.0->nemo_run==0.5.0rc0.dev0) (0.20.3)\n",
            "Requirement already satisfied: libcst in /usr/local/lib/python3.11/dist-packages (from fiddle>=0.3.0->nemo_run==0.5.0rc0.dev0) (1.7.0)\n",
            "Requirement already satisfied: typing-extensions in /usr/local/lib/python3.11/dist-packages (from fiddle>=0.3.0->nemo_run==0.5.0rc0.dev0) (4.13.2)\n",
            "Collecting pfzy<0.4.0,>=0.3.1 (from inquirerpy>=0.3.4->nemo_run==0.5.0rc0.dev0)\n",
            "  Downloading pfzy-0.3.4-py3-none-any.whl.metadata (4.9 kB)\n",
            "Requirement already satisfied: prompt-toolkit<4.0.0,>=3.0.1 in /usr/local/lib/python3.11/dist-packages (from inquirerpy>=0.3.4->nemo_run==0.5.0rc0.dev0) (3.0.51)\n",
            "Requirement already satisfied: MarkupSafe>=2.0 in /usr/local/lib/python3.11/dist-packages (from jinja2>=3.1.4->nemo_run==0.5.0rc0.dev0) (3.0.2)\n",
            "Requirement already satisfied: antlr4-python3-runtime==4.9.* in /usr/local/lib/python3.11/dist-packages (from omegaconf>=2.3.0->nemo_run==0.5.0rc0.dev0) (4.9.3)\n",
            "Requirement already satisfied: PyYAML>=5.1.0 in /usr/local/lib/python3.11/dist-packages (from omegaconf>=2.3.0->nemo_run==0.5.0rc0.dev0) (6.0.2)\n",
            "Requirement already satisfied: markdown-it-py>=2.2.0 in /usr/local/lib/python3.11/dist-packages (from rich>=13.7.1->nemo_run==0.5.0rc0.dev0) (3.0.0)\n",
            "Requirement already satisfied: pygments<3.0.0,>=2.13.0 in /usr/local/lib/python3.11/dist-packages (from rich>=13.7.1->nemo_run==0.5.0rc0.dev0) (2.19.1)\n",
            "Collecting pyre-extensions (from torchx>=0.7.0->nemo_run==0.5.0rc0.dev0)\n",
            "  Downloading pyre_extensions-0.0.32-py3-none-any.whl.metadata (4.0 kB)\n",
            "Requirement already satisfied: docstring-parser>=0.8.1 in /usr/local/lib/python3.11/dist-packages (from torchx>=0.7.0->nemo_run==0.5.0rc0.dev0) (0.16)\n",
            "Requirement already satisfied: importlib-metadata in /usr/local/lib/python3.11/dist-packages (from torchx>=0.7.0->nemo_run==0.5.0rc0.dev0) (8.6.1)\n",
            "Collecting docker (from torchx>=0.7.0->nemo_run==0.5.0rc0.dev0)\n",
            "  Downloading docker-7.1.0-py3-none-any.whl.metadata (3.8 kB)\n",
            "Requirement already satisfied: filelock in /usr/local/lib/python3.11/dist-packages (from torchx>=0.7.0->nemo_run==0.5.0rc0.dev0) (3.18.0)\n",
            "Requirement already satisfied: fsspec>=2023.10.0 in /usr/local/lib/python3.11/dist-packages (from torchx>=0.7.0->nemo_run==0.5.0rc0.dev0) (2025.3.0)\n",
            "Collecting urllib3<1.27,>=1.21.1 (from torchx>=0.7.0->nemo_run==0.5.0rc0.dev0)\n",
            "  Downloading urllib3-1.26.20-py2.py3-none-any.whl.metadata (50 kB)\n",
            "\u001b[2K     \u001b[90m━━━━━━━━━━━━━━━━━━━━━━━━━━━━━━━━━━━━━━━━\u001b[0m \u001b[32m50.1/50.1 kB\u001b[0m \u001b[31m4.8 MB/s\u001b[0m eta \u001b[36m0:00:00\u001b[0m\n",
            "\u001b[?25hRequirement already satisfied: tabulate in /usr/local/lib/python3.11/dist-packages (from torchx>=0.7.0->nemo_run==0.5.0rc0.dev0) (0.9.0)\n",
            "Requirement already satisfied: click>=8.0.0 in /usr/local/lib/python3.11/dist-packages (from typer>=0.12.3->nemo_run==0.5.0rc0.dev0) (8.1.8)\n",
            "Requirement already satisfied: shellingham>=1.3.0 in /usr/local/lib/python3.11/dist-packages (from typer>=0.12.3->nemo_run==0.5.0rc0.dev0) (1.5.4)\n",
            "Requirement already satisfied: pycparser in /usr/local/lib/python3.11/dist-packages (from cffi>=1.12->cryptography<43.0.0->nemo_run==0.5.0rc0.dev0) (2.22)\n",
            "Requirement already satisfied: wrapt<2,>=1.10 in /usr/local/lib/python3.11/dist-packages (from deprecated>=1.2->fabric>=3.2.2->nemo_run==0.5.0rc0.dev0) (1.17.2)\n",
            "Requirement already satisfied: mdurl~=0.1 in /usr/local/lib/python3.11/dist-packages (from markdown-it-py>=2.2.0->rich>=13.7.1->nemo_run==0.5.0rc0.dev0) (0.1.2)\n",
            "Collecting bcrypt>=3.2 (from paramiko>=2.4->fabric>=3.2.2->nemo_run==0.5.0rc0.dev0)\n",
            "  Downloading bcrypt-4.3.0-cp39-abi3-manylinux_2_34_x86_64.whl.metadata (10 kB)\n",
            "Collecting pynacl>=1.5 (from paramiko>=2.4->fabric>=3.2.2->nemo_run==0.5.0rc0.dev0)\n",
            "  Downloading PyNaCl-1.5.0-cp36-abi3-manylinux_2_17_x86_64.manylinux2014_x86_64.manylinux_2_24_x86_64.whl.metadata (8.6 kB)\n",
            "Requirement already satisfied: wcwidth in /usr/local/lib/python3.11/dist-packages (from prompt-toolkit<4.0.0,>=3.0.1->inquirerpy>=0.3.4->nemo_run==0.5.0rc0.dev0) (0.2.13)\n",
            "Requirement already satisfied: requests>=2.26.0 in /usr/local/lib/python3.11/dist-packages (from docker->torchx>=0.7.0->nemo_run==0.5.0rc0.dev0) (2.32.3)\n",
            "Requirement already satisfied: zipp>=3.20 in /usr/local/lib/python3.11/dist-packages (from importlib-metadata->torchx>=0.7.0->nemo_run==0.5.0rc0.dev0) (3.21.0)\n",
            "Requirement already satisfied: typing-inspect in /usr/local/lib/python3.11/dist-packages (from pyre-extensions->torchx>=0.7.0->nemo_run==0.5.0rc0.dev0) (0.9.0)\n",
            "Requirement already satisfied: charset-normalizer<4,>=2 in /usr/local/lib/python3.11/dist-packages (from requests>=2.26.0->docker->torchx>=0.7.0->nemo_run==0.5.0rc0.dev0) (3.4.1)\n",
            "Requirement already satisfied: idna<4,>=2.5 in /usr/local/lib/python3.11/dist-packages (from requests>=2.26.0->docker->torchx>=0.7.0->nemo_run==0.5.0rc0.dev0) (3.10)\n",
            "Requirement already satisfied: certifi>=2017.4.17 in /usr/local/lib/python3.11/dist-packages (from requests>=2.26.0->docker->torchx>=0.7.0->nemo_run==0.5.0rc0.dev0) (2025.4.26)\n",
            "Requirement already satisfied: mypy-extensions>=0.3.0 in /usr/local/lib/python3.11/dist-packages (from typing-inspect->pyre-extensions->torchx>=0.7.0->nemo_run==0.5.0rc0.dev0) (1.1.0)\n",
            "Downloading cryptography-42.0.8-cp39-abi3-manylinux_2_28_x86_64.whl (3.9 MB)\n",
            "\u001b[2K   \u001b[90m━━━━━━━━━━━━━━━━━━━━━━━━━━━━━━━━━━━━━━━━\u001b[0m \u001b[32m3.9/3.9 MB\u001b[0m \u001b[31m109.9 MB/s\u001b[0m eta \u001b[36m0:00:00\u001b[0m\n",
            "\u001b[?25hDownloading fabric-3.2.2-py3-none-any.whl (59 kB)\n",
            "\u001b[2K   \u001b[90m━━━━━━━━━━━━━━━━━━━━━━━━━━━━━━━━━━━━━━━━\u001b[0m \u001b[32m59.4/59.4 kB\u001b[0m \u001b[31m6.7 MB/s\u001b[0m eta \u001b[36m0:00:00\u001b[0m\n",
            "\u001b[?25hDownloading InquirerPy-0.3.4-py3-none-any.whl (67 kB)\n",
            "\u001b[2K   \u001b[90m━━━━━━━━━━━━━━━━━━━━━━━━━━━━━━━━━━━━━━━━\u001b[0m \u001b[32m67.7/67.7 kB\u001b[0m \u001b[31m7.1 MB/s\u001b[0m eta \u001b[36m0:00:00\u001b[0m\n",
            "\u001b[?25hDownloading torchx-0.7.0-py3-none-any.whl (256 kB)\n",
            "\u001b[2K   \u001b[90m━━━━━━━━━━━━━━━━━━━━━━━━━━━━━━━━━━━━━━━━\u001b[0m \u001b[32m256.1/256.1 kB\u001b[0m \u001b[31m25.8 MB/s\u001b[0m eta \u001b[36m0:00:00\u001b[0m\n",
            "\u001b[?25hDownloading decorator-5.2.1-py3-none-any.whl (9.2 kB)\n",
            "Downloading invoke-2.2.0-py3-none-any.whl (160 kB)\n",
            "\u001b[2K   \u001b[90m━━━━━━━━━━━━━━━━━━━━━━━━━━━━━━━━━━━━━━━━\u001b[0m \u001b[32m160.3/160.3 kB\u001b[0m \u001b[31m20.5 MB/s\u001b[0m eta \u001b[36m0:00:00\u001b[0m\n",
            "\u001b[?25hDownloading paramiko-3.5.1-py3-none-any.whl (227 kB)\n",
            "\u001b[2K   \u001b[90m━━━━━━━━━━━━━━━━━━━━━━━━━━━━━━━━━━━━━━━━\u001b[0m \u001b[32m227.3/227.3 kB\u001b[0m \u001b[31m26.5 MB/s\u001b[0m eta \u001b[36m0:00:00\u001b[0m\n",
            "\u001b[?25hDownloading pfzy-0.3.4-py3-none-any.whl (8.5 kB)\n",
            "Downloading urllib3-1.26.20-py2.py3-none-any.whl (144 kB)\n",
            "\u001b[2K   \u001b[90m━━━━━━━━━━━━━━━━━━━━━━━━━━━━━━━━━━━━━━━━\u001b[0m \u001b[32m144.2/144.2 kB\u001b[0m \u001b[31m15.7 MB/s\u001b[0m eta \u001b[36m0:00:00\u001b[0m\n",
            "\u001b[?25hDownloading docker-7.1.0-py3-none-any.whl (147 kB)\n",
            "\u001b[2K   \u001b[90m━━━━━━━━━━━━━━━━━━━━━━━━━━━━━━━━━━━━━━━━\u001b[0m \u001b[32m147.8/147.8 kB\u001b[0m \u001b[31m16.9 MB/s\u001b[0m eta \u001b[36m0:00:00\u001b[0m\n",
            "\u001b[?25hDownloading pyre_extensions-0.0.32-py3-none-any.whl (12 kB)\n",
            "Downloading bcrypt-4.3.0-cp39-abi3-manylinux_2_34_x86_64.whl (284 kB)\n",
            "\u001b[2K   \u001b[90m━━━━━━━━━━━━━━━━━━━━━━━━━━━━━━━━━━━━━━━━\u001b[0m \u001b[32m284.2/284.2 kB\u001b[0m \u001b[31m27.3 MB/s\u001b[0m eta \u001b[36m0:00:00\u001b[0m\n",
            "\u001b[?25hDownloading PyNaCl-1.5.0-cp36-abi3-manylinux_2_17_x86_64.manylinux2014_x86_64.manylinux_2_24_x86_64.whl (856 kB)\n",
            "\u001b[2K   \u001b[90m━━━━━━━━━━━━━━━━━━━━━━━━━━━━━━━━━━━━━━━━\u001b[0m \u001b[32m856.7/856.7 kB\u001b[0m \u001b[31m61.6 MB/s\u001b[0m eta \u001b[36m0:00:00\u001b[0m\n",
            "\u001b[?25hBuilding wheels for collected packages: nemo_run\n",
            "  Building wheel for nemo_run (pyproject.toml) ... \u001b[?25l\u001b[?25hdone\n",
            "  Created wheel for nemo_run: filename=nemo_run-0.5.0rc0.dev0-py3-none-any.whl size=187941 sha256=15c19fc27b2a1178f2107aa6c89dc03846468e4857664879f30f1e69c6e25896\n",
            "  Stored in directory: /tmp/pip-ephem-wheel-cache-xj8578v2/wheels/c4/ff/74/8d63bed49087a093832fc11ee9aa326ea732f245c3630cd728\n",
            "Successfully built nemo_run\n",
            "Installing collected packages: urllib3, pfzy, invoke, decorator, bcrypt, pyre-extensions, pynacl, inquirerpy, cryptography, paramiko, docker, torchx, fabric, nemo_run\n",
            "  Attempting uninstall: urllib3\n",
            "    Found existing installation: urllib3 2.4.0\n",
            "    Uninstalling urllib3-2.4.0:\n",
            "      Successfully uninstalled urllib3-2.4.0\n",
            "  Attempting uninstall: decorator\n",
            "    Found existing installation: decorator 4.4.2\n",
            "    Uninstalling decorator-4.4.2:\n",
            "      Successfully uninstalled decorator-4.4.2\n",
            "  Attempting uninstall: cryptography\n",
            "    Found existing installation: cryptography 43.0.3\n",
            "    Uninstalling cryptography-43.0.3:\n",
            "      Successfully uninstalled cryptography-43.0.3\n",
            "\u001b[31mERROR: pip's dependency resolver does not currently take into account all the packages that are installed. This behaviour is the source of the following dependency conflicts.\n",
            "tritonclient 2.51.0 requires urllib3>=2.0.7, but you have urllib3 1.26.20 which is incompatible.\n",
            "gcsfs 2025.3.2 requires fsspec==2025.3.2, but you have fsspec 2025.3.0 which is incompatible.\n",
            "moviepy 1.0.3 requires decorator<5.0,>=4.0.2, but you have decorator 5.2.1 which is incompatible.\u001b[0m\u001b[31m\n",
            "\u001b[0mSuccessfully installed bcrypt-4.3.0 cryptography-42.0.8 decorator-5.2.1 docker-7.1.0 fabric-3.2.2 inquirerpy-0.3.4 invoke-2.2.0 nemo_run-0.5.0rc0.dev0 paramiko-3.5.1 pfzy-0.3.4 pynacl-1.5.0 pyre-extensions-0.0.32 torchx-0.7.0 urllib3-1.26.20\n"
          ]
        },
        {
          "output_type": "display_data",
          "data": {
            "application/vnd.colab-display-data+json": {
              "pip_warning": {
                "packages": [
                  "decorator"
                ]
              },
              "id": "7a086a108fda49ab92a083beebc076f6"
            }
          },
          "metadata": {}
        }
      ]
    },
    {
      "cell_type": "code",
      "source": [
        "# should import, no messages if no error\n",
        "import nemo_run as run"
      ],
      "metadata": {
        "id": "qe-MN0VSzPta"
      },
      "execution_count": 5,
      "outputs": []
    },
    {
      "cell_type": "code",
      "source": [
        "!pip install megatron-core\n"
      ],
      "metadata": {
        "colab": {
          "base_uri": "https://localhost:8080/",
          "height": 1000
        },
        "id": "iNeEIHLxxOlq",
        "outputId": "1d92e2e0-4ed4-4309-e277-e96d7740207f"
      },
      "execution_count": 2,
      "outputs": [
        {
          "output_type": "stream",
          "name": "stdout",
          "text": [
            "Collecting megatron-core\n",
            "  Downloading megatron_core-0.12.0-cp311-cp311-manylinux_2_24_x86_64.manylinux_2_28_x86_64.whl.metadata (74 kB)\n",
            "\u001b[?25l     \u001b[90m━━━━━━━━━━━━━━━━━━━━━━━━━━━━━━━━━━━━━━━━\u001b[0m \u001b[32m0.0/74.1 kB\u001b[0m \u001b[31m?\u001b[0m eta \u001b[36m-:--:--\u001b[0m\r\u001b[2K     \u001b[90m━━━━━━━━━━━━━━━━━━━━━━━━━━━━━━━━━━━━━━━━\u001b[0m \u001b[32m74.1/74.1 kB\u001b[0m \u001b[31m7.8 MB/s\u001b[0m eta \u001b[36m0:00:00\u001b[0m\n",
            "\u001b[?25hRequirement already satisfied: einops in /usr/local/lib/python3.11/dist-packages (from megatron-core) (0.8.1)\n",
            "Requirement already satisfied: flask-restful in /usr/local/lib/python3.11/dist-packages (from megatron-core) (0.3.10)\n",
            "Requirement already satisfied: nltk in /usr/local/lib/python3.11/dist-packages (from megatron-core) (3.9.1)\n",
            "Requirement already satisfied: pytest in /usr/local/lib/python3.11/dist-packages (from megatron-core) (8.3.5)\n",
            "Requirement already satisfied: pytest-cov in /usr/local/lib/python3.11/dist-packages (from megatron-core) (6.1.1)\n",
            "Requirement already satisfied: pytest_mock in /usr/local/lib/python3.11/dist-packages (from megatron-core) (3.14.0)\n",
            "Collecting pytest-random-order (from megatron-core)\n",
            "  Downloading pytest_random_order-1.1.1-py3-none-any.whl.metadata (11 kB)\n",
            "Requirement already satisfied: sentencepiece in /usr/local/lib/python3.11/dist-packages (from megatron-core) (0.2.0)\n",
            "Requirement already satisfied: tiktoken in /usr/local/lib/python3.11/dist-packages (from megatron-core) (0.7.0)\n",
            "Requirement already satisfied: wrapt in /usr/local/lib/python3.11/dist-packages (from megatron-core) (1.17.2)\n",
            "Requirement already satisfied: zarr in /usr/local/lib/python3.11/dist-packages (from megatron-core) (2.18.7)\n",
            "Requirement already satisfied: wandb in /usr/local/lib/python3.11/dist-packages (from megatron-core) (0.19.10)\n",
            "Requirement already satisfied: tensorstore!=0.1.46,!=0.1.72 in /usr/local/lib/python3.11/dist-packages (from megatron-core) (0.1.71)\n",
            "Requirement already satisfied: torch in /usr/local/lib/python3.11/dist-packages (from megatron-core) (2.6.0+cu124)\n",
            "Requirement already satisfied: nvidia-modelopt>=0.23.2 in /usr/local/lib/python3.11/dist-packages (from nvidia-modelopt[torch]>=0.23.2; sys_platform != \"darwin\"->megatron-core) (0.23.2)\n",
            "Requirement already satisfied: packaging in /usr/local/lib/python3.11/dist-packages (from megatron-core) (24.2)\n",
            "Requirement already satisfied: nvidia-modelopt-core==0.23.2 in /usr/local/lib/python3.11/dist-packages (from nvidia-modelopt>=0.23.2->nvidia-modelopt[torch]>=0.23.2; sys_platform != \"darwin\"->megatron-core) (0.23.2)\n",
            "Requirement already satisfied: cloudpickle>=1.6.0 in /usr/local/lib/python3.11/dist-packages (from nvidia-modelopt>=0.23.2->nvidia-modelopt[torch]>=0.23.2; sys_platform != \"darwin\"->megatron-core) (3.1.1)\n",
            "Requirement already satisfied: ninja in /usr/local/lib/python3.11/dist-packages (from nvidia-modelopt>=0.23.2->nvidia-modelopt[torch]>=0.23.2; sys_platform != \"darwin\"->megatron-core) (1.11.1.4)\n",
            "Requirement already satisfied: numpy<2 in /usr/local/lib/python3.11/dist-packages (from nvidia-modelopt>=0.23.2->nvidia-modelopt[torch]>=0.23.2; sys_platform != \"darwin\"->megatron-core) (1.26.4)\n",
            "Requirement already satisfied: pydantic>=2.0 in /usr/local/lib/python3.11/dist-packages (from nvidia-modelopt>=0.23.2->nvidia-modelopt[torch]>=0.23.2; sys_platform != \"darwin\"->megatron-core) (2.11.4)\n",
            "Requirement already satisfied: rich in /usr/local/lib/python3.11/dist-packages (from nvidia-modelopt>=0.23.2->nvidia-modelopt[torch]>=0.23.2; sys_platform != \"darwin\"->megatron-core) (13.9.4)\n",
            "Requirement already satisfied: scipy in /usr/local/lib/python3.11/dist-packages (from nvidia-modelopt>=0.23.2->nvidia-modelopt[torch]>=0.23.2; sys_platform != \"darwin\"->megatron-core) (1.15.2)\n",
            "Requirement already satisfied: tqdm in /usr/local/lib/python3.11/dist-packages (from nvidia-modelopt>=0.23.2->nvidia-modelopt[torch]>=0.23.2; sys_platform != \"darwin\"->megatron-core) (4.67.1)\n",
            "Requirement already satisfied: pulp in /usr/local/lib/python3.11/dist-packages (from nvidia-modelopt[torch]>=0.23.2; sys_platform != \"darwin\"->megatron-core) (3.1.1)\n",
            "Requirement already satisfied: regex in /usr/local/lib/python3.11/dist-packages (from nvidia-modelopt[torch]>=0.23.2; sys_platform != \"darwin\"->megatron-core) (2024.11.6)\n",
            "Requirement already satisfied: safetensors in /usr/local/lib/python3.11/dist-packages (from nvidia-modelopt[torch]>=0.23.2; sys_platform != \"darwin\"->megatron-core) (0.5.3)\n",
            "Requirement already satisfied: torchprofile>=0.0.4 in /usr/local/lib/python3.11/dist-packages (from nvidia-modelopt[torch]>=0.23.2; sys_platform != \"darwin\"->megatron-core) (0.0.4)\n",
            "Requirement already satisfied: torchvision in /usr/local/lib/python3.11/dist-packages (from nvidia-modelopt[torch]>=0.23.2; sys_platform != \"darwin\"->megatron-core) (0.21.0+cu124)\n",
            "Requirement already satisfied: ml_dtypes>=0.3.1 in /usr/local/lib/python3.11/dist-packages (from tensorstore!=0.1.46,!=0.1.72->megatron-core) (0.4.1)\n",
            "Requirement already satisfied: filelock in /usr/local/lib/python3.11/dist-packages (from torch->megatron-core) (3.18.0)\n",
            "Requirement already satisfied: typing-extensions>=4.10.0 in /usr/local/lib/python3.11/dist-packages (from torch->megatron-core) (4.13.2)\n",
            "Requirement already satisfied: networkx in /usr/local/lib/python3.11/dist-packages (from torch->megatron-core) (3.4.2)\n",
            "Requirement already satisfied: jinja2 in /usr/local/lib/python3.11/dist-packages (from torch->megatron-core) (3.1.6)\n",
            "Requirement already satisfied: fsspec in /usr/local/lib/python3.11/dist-packages (from torch->megatron-core) (2025.3.0)\n",
            "Requirement already satisfied: nvidia-cuda-nvrtc-cu12==12.4.127 in /usr/local/lib/python3.11/dist-packages (from torch->megatron-core) (12.4.127)\n",
            "Requirement already satisfied: nvidia-cuda-runtime-cu12==12.4.127 in /usr/local/lib/python3.11/dist-packages (from torch->megatron-core) (12.4.127)\n",
            "Requirement already satisfied: nvidia-cuda-cupti-cu12==12.4.127 in /usr/local/lib/python3.11/dist-packages (from torch->megatron-core) (12.4.127)\n",
            "Requirement already satisfied: nvidia-cudnn-cu12==9.1.0.70 in /usr/local/lib/python3.11/dist-packages (from torch->megatron-core) (9.1.0.70)\n",
            "Requirement already satisfied: nvidia-cublas-cu12==12.4.5.8 in /usr/local/lib/python3.11/dist-packages (from torch->megatron-core) (12.4.5.8)\n",
            "Requirement already satisfied: nvidia-cufft-cu12==11.2.1.3 in /usr/local/lib/python3.11/dist-packages (from torch->megatron-core) (11.2.1.3)\n",
            "Requirement already satisfied: nvidia-curand-cu12==10.3.5.147 in /usr/local/lib/python3.11/dist-packages (from torch->megatron-core) (10.3.5.147)\n",
            "Requirement already satisfied: nvidia-cusolver-cu12==11.6.1.9 in /usr/local/lib/python3.11/dist-packages (from torch->megatron-core) (11.6.1.9)\n",
            "Requirement already satisfied: nvidia-cusparse-cu12==12.3.1.170 in /usr/local/lib/python3.11/dist-packages (from torch->megatron-core) (12.3.1.170)\n",
            "Requirement already satisfied: nvidia-cusparselt-cu12==0.6.2 in /usr/local/lib/python3.11/dist-packages (from torch->megatron-core) (0.6.2)\n",
            "Requirement already satisfied: nvidia-nccl-cu12==2.21.5 in /usr/local/lib/python3.11/dist-packages (from torch->megatron-core) (2.21.5)\n",
            "Requirement already satisfied: nvidia-nvtx-cu12==12.4.127 in /usr/local/lib/python3.11/dist-packages (from torch->megatron-core) (12.4.127)\n",
            "Requirement already satisfied: nvidia-nvjitlink-cu12==12.4.127 in /usr/local/lib/python3.11/dist-packages (from torch->megatron-core) (12.4.127)\n",
            "Requirement already satisfied: triton==3.2.0 in /usr/local/lib/python3.11/dist-packages (from torch->megatron-core) (3.2.0)\n",
            "Requirement already satisfied: sympy==1.13.1 in /usr/local/lib/python3.11/dist-packages (from torch->megatron-core) (1.13.1)\n",
            "Requirement already satisfied: mpmath<1.4,>=1.1.0 in /usr/local/lib/python3.11/dist-packages (from sympy==1.13.1->torch->megatron-core) (1.3.0)\n",
            "Requirement already satisfied: aniso8601>=0.82 in /usr/local/lib/python3.11/dist-packages (from flask-restful->megatron-core) (10.0.1)\n",
            "Requirement already satisfied: Flask>=0.8 in /usr/local/lib/python3.11/dist-packages (from flask-restful->megatron-core) (3.1.0)\n",
            "Requirement already satisfied: six>=1.3.0 in /usr/local/lib/python3.11/dist-packages (from flask-restful->megatron-core) (1.17.0)\n",
            "Requirement already satisfied: pytz in /usr/local/lib/python3.11/dist-packages (from flask-restful->megatron-core) (2025.2)\n",
            "Requirement already satisfied: click in /usr/local/lib/python3.11/dist-packages (from nltk->megatron-core) (8.1.8)\n",
            "Requirement already satisfied: joblib in /usr/local/lib/python3.11/dist-packages (from nltk->megatron-core) (1.4.2)\n",
            "Requirement already satisfied: iniconfig in /usr/local/lib/python3.11/dist-packages (from pytest->megatron-core) (2.1.0)\n",
            "Requirement already satisfied: pluggy<2,>=1.5 in /usr/local/lib/python3.11/dist-packages (from pytest->megatron-core) (1.5.0)\n",
            "Requirement already satisfied: coverage>=7.5 in /usr/local/lib/python3.11/dist-packages (from coverage[toml]>=7.5->pytest-cov->megatron-core) (7.8.0)\n",
            "Requirement already satisfied: requests>=2.26.0 in /usr/local/lib/python3.11/dist-packages (from tiktoken->megatron-core) (2.32.3)\n",
            "Requirement already satisfied: docker-pycreds>=0.4.0 in /usr/local/lib/python3.11/dist-packages (from wandb->megatron-core) (0.4.0)\n",
            "Requirement already satisfied: gitpython!=3.1.29,>=1.0.0 in /usr/local/lib/python3.11/dist-packages (from wandb->megatron-core) (3.1.44)\n",
            "Requirement already satisfied: platformdirs in /usr/local/lib/python3.11/dist-packages (from wandb->megatron-core) (4.3.7)\n",
            "Requirement already satisfied: protobuf!=4.21.0,!=5.28.0,<7,>=3.19.0 in /usr/local/lib/python3.11/dist-packages (from wandb->megatron-core) (3.20.3)\n",
            "Requirement already satisfied: psutil>=5.0.0 in /usr/local/lib/python3.11/dist-packages (from wandb->megatron-core) (5.9.5)\n",
            "Requirement already satisfied: pyyaml in /usr/local/lib/python3.11/dist-packages (from wandb->megatron-core) (6.0.2)\n",
            "Requirement already satisfied: sentry-sdk>=2.0.0 in /usr/local/lib/python3.11/dist-packages (from wandb->megatron-core) (2.27.0)\n",
            "Requirement already satisfied: setproctitle in /usr/local/lib/python3.11/dist-packages (from wandb->megatron-core) (1.3.6)\n",
            "Requirement already satisfied: setuptools in /usr/local/lib/python3.11/dist-packages (from wandb->megatron-core) (75.2.0)\n",
            "Requirement already satisfied: asciitree in /usr/local/lib/python3.11/dist-packages (from zarr->megatron-core) (0.3.3)\n",
            "Requirement already satisfied: fasteners in /usr/local/lib/python3.11/dist-packages (from zarr->megatron-core) (0.19)\n",
            "Requirement already satisfied: numcodecs!=0.14.0,!=0.14.1,<0.16,>=0.10.0 in /usr/local/lib/python3.11/dist-packages (from zarr->megatron-core) (0.15.1)\n",
            "Requirement already satisfied: Werkzeug>=3.1 in /usr/local/lib/python3.11/dist-packages (from Flask>=0.8->flask-restful->megatron-core) (3.1.3)\n",
            "Requirement already satisfied: itsdangerous>=2.2 in /usr/local/lib/python3.11/dist-packages (from Flask>=0.8->flask-restful->megatron-core) (2.2.0)\n",
            "Requirement already satisfied: blinker>=1.9 in /usr/local/lib/python3.11/dist-packages (from Flask>=0.8->flask-restful->megatron-core) (1.9.0)\n",
            "Requirement already satisfied: gitdb<5,>=4.0.1 in /usr/local/lib/python3.11/dist-packages (from gitpython!=3.1.29,>=1.0.0->wandb->megatron-core) (4.0.12)\n",
            "Requirement already satisfied: MarkupSafe>=2.0 in /usr/local/lib/python3.11/dist-packages (from jinja2->torch->megatron-core) (3.0.2)\n",
            "Requirement already satisfied: deprecated in /usr/local/lib/python3.11/dist-packages (from numcodecs!=0.14.0,!=0.14.1,<0.16,>=0.10.0->zarr->megatron-core) (1.2.18)\n",
            "Requirement already satisfied: annotated-types>=0.6.0 in /usr/local/lib/python3.11/dist-packages (from pydantic>=2.0->nvidia-modelopt>=0.23.2->nvidia-modelopt[torch]>=0.23.2; sys_platform != \"darwin\"->megatron-core) (0.7.0)\n",
            "Requirement already satisfied: pydantic-core==2.33.2 in /usr/local/lib/python3.11/dist-packages (from pydantic>=2.0->nvidia-modelopt>=0.23.2->nvidia-modelopt[torch]>=0.23.2; sys_platform != \"darwin\"->megatron-core) (2.33.2)\n",
            "Requirement already satisfied: typing-inspection>=0.4.0 in /usr/local/lib/python3.11/dist-packages (from pydantic>=2.0->nvidia-modelopt>=0.23.2->nvidia-modelopt[torch]>=0.23.2; sys_platform != \"darwin\"->megatron-core) (0.4.0)\n",
            "Requirement already satisfied: charset-normalizer<4,>=2 in /usr/local/lib/python3.11/dist-packages (from requests>=2.26.0->tiktoken->megatron-core) (3.4.1)\n",
            "Requirement already satisfied: idna<4,>=2.5 in /usr/local/lib/python3.11/dist-packages (from requests>=2.26.0->tiktoken->megatron-core) (3.10)\n",
            "Requirement already satisfied: urllib3<3,>=1.21.1 in /usr/local/lib/python3.11/dist-packages (from requests>=2.26.0->tiktoken->megatron-core) (1.26.20)\n",
            "Requirement already satisfied: certifi>=2017.4.17 in /usr/local/lib/python3.11/dist-packages (from requests>=2.26.0->tiktoken->megatron-core) (2025.4.26)\n",
            "Requirement already satisfied: pillow!=8.3.*,>=5.3.0 in /usr/local/lib/python3.11/dist-packages (from torchvision->nvidia-modelopt[torch]>=0.23.2; sys_platform != \"darwin\"->megatron-core) (11.2.1)\n",
            "Requirement already satisfied: markdown-it-py>=2.2.0 in /usr/local/lib/python3.11/dist-packages (from rich->nvidia-modelopt>=0.23.2->nvidia-modelopt[torch]>=0.23.2; sys_platform != \"darwin\"->megatron-core) (3.0.0)\n",
            "Requirement already satisfied: pygments<3.0.0,>=2.13.0 in /usr/local/lib/python3.11/dist-packages (from rich->nvidia-modelopt>=0.23.2->nvidia-modelopt[torch]>=0.23.2; sys_platform != \"darwin\"->megatron-core) (2.19.1)\n",
            "Requirement already satisfied: smmap<6,>=3.0.1 in /usr/local/lib/python3.11/dist-packages (from gitdb<5,>=4.0.1->gitpython!=3.1.29,>=1.0.0->wandb->megatron-core) (5.0.2)\n",
            "Requirement already satisfied: mdurl~=0.1 in /usr/local/lib/python3.11/dist-packages (from markdown-it-py>=2.2.0->rich->nvidia-modelopt>=0.23.2->nvidia-modelopt[torch]>=0.23.2; sys_platform != \"darwin\"->megatron-core) (0.1.2)\n",
            "Downloading megatron_core-0.12.0-cp311-cp311-manylinux_2_24_x86_64.manylinux_2_28_x86_64.whl (1.8 MB)\n",
            "\u001b[2K   \u001b[90m━━━━━━━━━━━━━━━━━━━━━━━━━━━━━━━━━━━━━━━━\u001b[0m \u001b[32m1.8/1.8 MB\u001b[0m \u001b[31m87.3 MB/s\u001b[0m eta \u001b[36m0:00:00\u001b[0m\n",
            "\u001b[?25hDownloading pytest_random_order-1.1.1-py3-none-any.whl (11 kB)\n",
            "Installing collected packages: pytest-random-order, megatron-core\n",
            "Successfully installed megatron-core-0.12.0 pytest-random-order-1.1.1\n"
          ]
        },
        {
          "output_type": "display_data",
          "data": {
            "application/vnd.colab-display-data+json": {
              "pip_warning": {
                "packages": [
                  "megatron"
                ]
              },
              "id": "219f48aaca554c6fb5fdbfa2d7bf6555"
            }
          },
          "metadata": {}
        }
      ]
    },
    {
      "cell_type": "code",
      "source": [
        "!pip install transformer-engine[pytorch]"
      ],
      "metadata": {
        "colab": {
          "base_uri": "https://localhost:8080/"
        },
        "id": "6V_lzEgd1V-1",
        "outputId": "daa62dc8-ed07-4acb-dc88-babd313afcfc"
      },
      "execution_count": null,
      "outputs": [
        {
          "output_type": "stream",
          "name": "stdout",
          "text": [
            "Collecting transformer-engine[pytorch]\n",
            "  Downloading transformer_engine-2.1.0-py3-none-any.whl.metadata (16 kB)\n",
            "Collecting transformer_engine_cu12==2.1.0 (from transformer-engine[pytorch])\n",
            "  Downloading transformer_engine_cu12-2.1.0-py3-none-manylinux_2_28_x86_64.whl.metadata (16 kB)\n",
            "Collecting transformer_engine_torch==2.1.0 (from transformer-engine[pytorch])\n",
            "  Downloading transformer_engine_torch-2.1.0.tar.gz (147 kB)\n",
            "\u001b[2K     \u001b[90m━━━━━━━━━━━━━━━━━━━━━━━━━━━━━━━━━━━━━━━\u001b[0m \u001b[32m147.8/147.8 kB\u001b[0m \u001b[31m6.9 MB/s\u001b[0m eta \u001b[36m0:00:00\u001b[0m\n",
            "\u001b[?25h  Preparing metadata (setup.py) ... \u001b[?25l\u001b[?25hdone\n",
            "Requirement already satisfied: importlib-metadata>=1.0 in /usr/local/lib/python3.11/dist-packages (from transformer_engine_cu12==2.1.0->transformer-engine[pytorch]) (8.6.1)\n",
            "Requirement already satisfied: pydantic in /usr/local/lib/python3.11/dist-packages (from transformer_engine_cu12==2.1.0->transformer-engine[pytorch]) (2.11.3)\n",
            "Requirement already satisfied: packaging in /usr/local/lib/python3.11/dist-packages (from transformer_engine_cu12==2.1.0->transformer-engine[pytorch]) (24.2)\n",
            "Requirement already satisfied: torch in /usr/local/lib/python3.11/dist-packages (from transformer_engine_torch==2.1.0->transformer-engine[pytorch]) (2.6.0+cu124)\n",
            "Requirement already satisfied: zipp>=3.20 in /usr/local/lib/python3.11/dist-packages (from importlib-metadata>=1.0->transformer_engine_cu12==2.1.0->transformer-engine[pytorch]) (3.21.0)\n",
            "Requirement already satisfied: annotated-types>=0.6.0 in /usr/local/lib/python3.11/dist-packages (from pydantic->transformer_engine_cu12==2.1.0->transformer-engine[pytorch]) (0.7.0)\n",
            "Requirement already satisfied: pydantic-core==2.33.1 in /usr/local/lib/python3.11/dist-packages (from pydantic->transformer_engine_cu12==2.1.0->transformer-engine[pytorch]) (2.33.1)\n",
            "Requirement already satisfied: typing-extensions>=4.12.2 in /usr/local/lib/python3.11/dist-packages (from pydantic->transformer_engine_cu12==2.1.0->transformer-engine[pytorch]) (4.13.2)\n",
            "Requirement already satisfied: typing-inspection>=0.4.0 in /usr/local/lib/python3.11/dist-packages (from pydantic->transformer_engine_cu12==2.1.0->transformer-engine[pytorch]) (0.4.0)\n",
            "Requirement already satisfied: filelock in /usr/local/lib/python3.11/dist-packages (from torch->transformer_engine_torch==2.1.0->transformer-engine[pytorch]) (3.18.0)\n",
            "Requirement already satisfied: networkx in /usr/local/lib/python3.11/dist-packages (from torch->transformer_engine_torch==2.1.0->transformer-engine[pytorch]) (3.4.2)\n",
            "Requirement already satisfied: jinja2 in /usr/local/lib/python3.11/dist-packages (from torch->transformer_engine_torch==2.1.0->transformer-engine[pytorch]) (3.1.6)\n",
            "Requirement already satisfied: fsspec in /usr/local/lib/python3.11/dist-packages (from torch->transformer_engine_torch==2.1.0->transformer-engine[pytorch]) (2024.12.0)\n",
            "Requirement already satisfied: nvidia-cuda-nvrtc-cu12==12.4.127 in /usr/local/lib/python3.11/dist-packages (from torch->transformer_engine_torch==2.1.0->transformer-engine[pytorch]) (12.4.127)\n",
            "Requirement already satisfied: nvidia-cuda-runtime-cu12==12.4.127 in /usr/local/lib/python3.11/dist-packages (from torch->transformer_engine_torch==2.1.0->transformer-engine[pytorch]) (12.4.127)\n",
            "Requirement already satisfied: nvidia-cuda-cupti-cu12==12.4.127 in /usr/local/lib/python3.11/dist-packages (from torch->transformer_engine_torch==2.1.0->transformer-engine[pytorch]) (12.4.127)\n",
            "Requirement already satisfied: nvidia-cudnn-cu12==9.1.0.70 in /usr/local/lib/python3.11/dist-packages (from torch->transformer_engine_torch==2.1.0->transformer-engine[pytorch]) (9.1.0.70)\n",
            "Requirement already satisfied: nvidia-cublas-cu12==12.4.5.8 in /usr/local/lib/python3.11/dist-packages (from torch->transformer_engine_torch==2.1.0->transformer-engine[pytorch]) (12.4.5.8)\n",
            "Requirement already satisfied: nvidia-cufft-cu12==11.2.1.3 in /usr/local/lib/python3.11/dist-packages (from torch->transformer_engine_torch==2.1.0->transformer-engine[pytorch]) (11.2.1.3)\n",
            "Requirement already satisfied: nvidia-curand-cu12==10.3.5.147 in /usr/local/lib/python3.11/dist-packages (from torch->transformer_engine_torch==2.1.0->transformer-engine[pytorch]) (10.3.5.147)\n",
            "Requirement already satisfied: nvidia-cusolver-cu12==11.6.1.9 in /usr/local/lib/python3.11/dist-packages (from torch->transformer_engine_torch==2.1.0->transformer-engine[pytorch]) (11.6.1.9)\n",
            "Requirement already satisfied: nvidia-cusparse-cu12==12.3.1.170 in /usr/local/lib/python3.11/dist-packages (from torch->transformer_engine_torch==2.1.0->transformer-engine[pytorch]) (12.3.1.170)\n",
            "Requirement already satisfied: nvidia-cusparselt-cu12==0.6.2 in /usr/local/lib/python3.11/dist-packages (from torch->transformer_engine_torch==2.1.0->transformer-engine[pytorch]) (0.6.2)\n",
            "Requirement already satisfied: nvidia-nccl-cu12==2.21.5 in /usr/local/lib/python3.11/dist-packages (from torch->transformer_engine_torch==2.1.0->transformer-engine[pytorch]) (2.21.5)\n",
            "Requirement already satisfied: nvidia-nvtx-cu12==12.4.127 in /usr/local/lib/python3.11/dist-packages (from torch->transformer_engine_torch==2.1.0->transformer-engine[pytorch]) (12.4.127)\n",
            "Requirement already satisfied: nvidia-nvjitlink-cu12==12.4.127 in /usr/local/lib/python3.11/dist-packages (from torch->transformer_engine_torch==2.1.0->transformer-engine[pytorch]) (12.4.127)\n",
            "Requirement already satisfied: triton==3.2.0 in /usr/local/lib/python3.11/dist-packages (from torch->transformer_engine_torch==2.1.0->transformer-engine[pytorch]) (3.2.0)\n",
            "Requirement already satisfied: sympy==1.13.1 in /usr/local/lib/python3.11/dist-packages (from torch->transformer_engine_torch==2.1.0->transformer-engine[pytorch]) (1.13.1)\n",
            "Requirement already satisfied: mpmath<1.4,>=1.1.0 in /usr/local/lib/python3.11/dist-packages (from sympy==1.13.1->torch->transformer_engine_torch==2.1.0->transformer-engine[pytorch]) (1.3.0)\n",
            "Requirement already satisfied: MarkupSafe>=2.0 in /usr/local/lib/python3.11/dist-packages (from jinja2->torch->transformer_engine_torch==2.1.0->transformer-engine[pytorch]) (3.0.2)\n",
            "Downloading transformer_engine_cu12-2.1.0-py3-none-manylinux_2_28_x86_64.whl (215.7 MB)\n",
            "\u001b[2K   \u001b[90m━━━━━━━━━━━━━━━━━━━━━━━━━━━━━━━━━━━━━━━━\u001b[0m \u001b[32m215.7/215.7 MB\u001b[0m \u001b[31m5.7 MB/s\u001b[0m eta \u001b[36m0:00:00\u001b[0m\n",
            "\u001b[?25hDownloading transformer_engine-2.1.0-py3-none-any.whl (402 kB)\n",
            "\u001b[2K   \u001b[90m━━━━━━━━━━━━━━━━━━━━━━━━━━━━━━━━━━━━━━━━\u001b[0m \u001b[32m402.1/402.1 kB\u001b[0m \u001b[31m40.1 MB/s\u001b[0m eta \u001b[36m0:00:00\u001b[0m\n",
            "\u001b[?25hBuilding wheels for collected packages: transformer_engine_torch\n",
            "  Building wheel for transformer_engine_torch (setup.py) ... \u001b[?25l\u001b[?25hdone\n",
            "  Created wheel for transformer_engine_torch: filename=transformer_engine_torch-2.1.0-cp311-cp311-linux_x86_64.whl size=34273289 sha256=09811981257795df10ab741363af197aff5669c058c862f310ef55c5dec56c25\n",
            "  Stored in directory: /root/.cache/pip/wheels/04/d2/58/da88f4c02fedd2d22cf7204a63ddd0f30ef4852ed68f20c283\n",
            "Successfully built transformer_engine_torch\n",
            "Installing collected packages: transformer_engine_cu12, transformer_engine_torch, transformer-engine\n",
            "Successfully installed transformer-engine-2.1.0 transformer_engine_cu12-2.1.0 transformer_engine_torch-2.1.0\n"
          ]
        }
      ]
    },
    {
      "cell_type": "code",
      "source": [
        "# should run correctly with a message [NeMo W 2025-04-23 19:27:55 nemo_logging:405]\n",
        "#The package `megatron.core` was not imported in this environment which is needed for SSMs.\n",
        "\n",
        "from nemo.collections import llm\n",
        "# if you numpy error then the prereqs arent installed correctly\n",
        "# if you see a transformer enginer error  then the install transformer-engine did not complete correctly"
      ],
      "metadata": {
        "id": "ohycioKq1MKd"
      },
      "execution_count": 3,
      "outputs": []
    },
    {
      "cell_type": "markdown",
      "source": [
        "# Build mamba state spaces to fix llm ssm error message"
      ],
      "metadata": {
        "id": "7WMuuuD4zkvl"
      }
    },
    {
      "cell_type": "code",
      "source": [
        "# this takes 17m!!\n",
        "!pip install git+https://github.com/state-spaces/mamba.git"
      ],
      "metadata": {
        "id": "rq1v4DQuzofq",
        "outputId": "4c9b6160-cc84-47ae-bd4b-37f13a368780",
        "colab": {
          "base_uri": "https://localhost:8080/"
        }
      },
      "execution_count": 2,
      "outputs": [
        {
          "output_type": "stream",
          "name": "stdout",
          "text": [
            "Collecting git+https://github.com/state-spaces/mamba.git\n",
            "  Cloning https://github.com/state-spaces/mamba.git to /tmp/pip-req-build-yrwioz5h\n",
            "  Running command git clone --filter=blob:none --quiet https://github.com/state-spaces/mamba.git /tmp/pip-req-build-yrwioz5h\n",
            "  Resolved https://github.com/state-spaces/mamba.git to commit 2e16fc3062cdcd4ebef27a9aa4442676e1c7edf4\n",
            "  Running command git submodule update --init --recursive -q\n",
            "  Installing build dependencies ... \u001b[?25l\u001b[?25hdone\n",
            "  Getting requirements to build wheel ... \u001b[?25l\u001b[?25hdone\n",
            "  Preparing metadata (pyproject.toml) ... \u001b[?25l\u001b[?25hdone\n",
            "Requirement already satisfied: torch in /usr/local/lib/python3.11/dist-packages (from mamba_ssm==2.2.4) (2.6.0+cu124)\n",
            "Requirement already satisfied: triton in /usr/local/lib/python3.11/dist-packages (from mamba_ssm==2.2.4) (3.2.0)\n",
            "Requirement already satisfied: ninja in /usr/local/lib/python3.11/dist-packages (from mamba_ssm==2.2.4) (1.11.1.4)\n",
            "Requirement already satisfied: einops in /usr/local/lib/python3.11/dist-packages (from mamba_ssm==2.2.4) (0.8.1)\n",
            "Requirement already satisfied: transformers in /usr/local/lib/python3.11/dist-packages (from mamba_ssm==2.2.4) (4.48.3)\n",
            "Requirement already satisfied: packaging in /usr/local/lib/python3.11/dist-packages (from mamba_ssm==2.2.4) (24.2)\n",
            "Requirement already satisfied: setuptools>=61.0.0 in /usr/local/lib/python3.11/dist-packages (from mamba_ssm==2.2.4) (75.2.0)\n",
            "Requirement already satisfied: filelock in /usr/local/lib/python3.11/dist-packages (from torch->mamba_ssm==2.2.4) (3.18.0)\n",
            "Requirement already satisfied: typing-extensions>=4.10.0 in /usr/local/lib/python3.11/dist-packages (from torch->mamba_ssm==2.2.4) (4.13.2)\n",
            "Requirement already satisfied: networkx in /usr/local/lib/python3.11/dist-packages (from torch->mamba_ssm==2.2.4) (3.4.2)\n",
            "Requirement already satisfied: jinja2 in /usr/local/lib/python3.11/dist-packages (from torch->mamba_ssm==2.2.4) (3.1.6)\n",
            "Requirement already satisfied: fsspec in /usr/local/lib/python3.11/dist-packages (from torch->mamba_ssm==2.2.4) (2025.3.0)\n",
            "Requirement already satisfied: nvidia-cuda-nvrtc-cu12==12.4.127 in /usr/local/lib/python3.11/dist-packages (from torch->mamba_ssm==2.2.4) (12.4.127)\n",
            "Requirement already satisfied: nvidia-cuda-runtime-cu12==12.4.127 in /usr/local/lib/python3.11/dist-packages (from torch->mamba_ssm==2.2.4) (12.4.127)\n",
            "Requirement already satisfied: nvidia-cuda-cupti-cu12==12.4.127 in /usr/local/lib/python3.11/dist-packages (from torch->mamba_ssm==2.2.4) (12.4.127)\n",
            "Requirement already satisfied: nvidia-cudnn-cu12==9.1.0.70 in /usr/local/lib/python3.11/dist-packages (from torch->mamba_ssm==2.2.4) (9.1.0.70)\n",
            "Requirement already satisfied: nvidia-cublas-cu12==12.4.5.8 in /usr/local/lib/python3.11/dist-packages (from torch->mamba_ssm==2.2.4) (12.4.5.8)\n",
            "Requirement already satisfied: nvidia-cufft-cu12==11.2.1.3 in /usr/local/lib/python3.11/dist-packages (from torch->mamba_ssm==2.2.4) (11.2.1.3)\n",
            "Requirement already satisfied: nvidia-curand-cu12==10.3.5.147 in /usr/local/lib/python3.11/dist-packages (from torch->mamba_ssm==2.2.4) (10.3.5.147)\n",
            "Requirement already satisfied: nvidia-cusolver-cu12==11.6.1.9 in /usr/local/lib/python3.11/dist-packages (from torch->mamba_ssm==2.2.4) (11.6.1.9)\n",
            "Requirement already satisfied: nvidia-cusparse-cu12==12.3.1.170 in /usr/local/lib/python3.11/dist-packages (from torch->mamba_ssm==2.2.4) (12.3.1.170)\n",
            "Requirement already satisfied: nvidia-cusparselt-cu12==0.6.2 in /usr/local/lib/python3.11/dist-packages (from torch->mamba_ssm==2.2.4) (0.6.2)\n",
            "Requirement already satisfied: nvidia-nccl-cu12==2.21.5 in /usr/local/lib/python3.11/dist-packages (from torch->mamba_ssm==2.2.4) (2.21.5)\n",
            "Requirement already satisfied: nvidia-nvtx-cu12==12.4.127 in /usr/local/lib/python3.11/dist-packages (from torch->mamba_ssm==2.2.4) (12.4.127)\n",
            "Requirement already satisfied: nvidia-nvjitlink-cu12==12.4.127 in /usr/local/lib/python3.11/dist-packages (from torch->mamba_ssm==2.2.4) (12.4.127)\n",
            "Requirement already satisfied: sympy==1.13.1 in /usr/local/lib/python3.11/dist-packages (from torch->mamba_ssm==2.2.4) (1.13.1)\n",
            "Requirement already satisfied: mpmath<1.4,>=1.1.0 in /usr/local/lib/python3.11/dist-packages (from sympy==1.13.1->torch->mamba_ssm==2.2.4) (1.3.0)\n",
            "Requirement already satisfied: huggingface-hub<1.0,>=0.24.0 in /usr/local/lib/python3.11/dist-packages (from transformers->mamba_ssm==2.2.4) (0.30.2)\n",
            "Requirement already satisfied: numpy>=1.17 in /usr/local/lib/python3.11/dist-packages (from transformers->mamba_ssm==2.2.4) (1.26.4)\n",
            "Requirement already satisfied: pyyaml>=5.1 in /usr/local/lib/python3.11/dist-packages (from transformers->mamba_ssm==2.2.4) (6.0.2)\n",
            "Requirement already satisfied: regex!=2019.12.17 in /usr/local/lib/python3.11/dist-packages (from transformers->mamba_ssm==2.2.4) (2024.11.6)\n",
            "Requirement already satisfied: requests in /usr/local/lib/python3.11/dist-packages (from transformers->mamba_ssm==2.2.4) (2.32.3)\n",
            "Requirement already satisfied: tokenizers<0.22,>=0.21 in /usr/local/lib/python3.11/dist-packages (from transformers->mamba_ssm==2.2.4) (0.21.1)\n",
            "Requirement already satisfied: safetensors>=0.4.1 in /usr/local/lib/python3.11/dist-packages (from transformers->mamba_ssm==2.2.4) (0.5.3)\n",
            "Requirement already satisfied: tqdm>=4.27 in /usr/local/lib/python3.11/dist-packages (from transformers->mamba_ssm==2.2.4) (4.67.1)\n",
            "Requirement already satisfied: MarkupSafe>=2.0 in /usr/local/lib/python3.11/dist-packages (from jinja2->torch->mamba_ssm==2.2.4) (3.0.2)\n",
            "Requirement already satisfied: charset-normalizer<4,>=2 in /usr/local/lib/python3.11/dist-packages (from requests->transformers->mamba_ssm==2.2.4) (3.4.1)\n",
            "Requirement already satisfied: idna<4,>=2.5 in /usr/local/lib/python3.11/dist-packages (from requests->transformers->mamba_ssm==2.2.4) (3.10)\n",
            "Requirement already satisfied: urllib3<3,>=1.21.1 in /usr/local/lib/python3.11/dist-packages (from requests->transformers->mamba_ssm==2.2.4) (1.26.20)\n",
            "Requirement already satisfied: certifi>=2017.4.17 in /usr/local/lib/python3.11/dist-packages (from requests->transformers->mamba_ssm==2.2.4) (2025.4.26)\n",
            "Building wheels for collected packages: mamba_ssm\n",
            "  Building wheel for mamba_ssm (pyproject.toml) ... \u001b[?25l\u001b[?25hdone\n",
            "  Created wheel for mamba_ssm: filename=mamba_ssm-2.2.4-cp311-cp311-linux_x86_64.whl size=322693473 sha256=cd1862f7106b7851ebb1306d879cc267d2d96179e4017f32092c0f9d5a67f86d\n",
            "  Stored in directory: /tmp/pip-ephem-wheel-cache-4x8odshq/wheels/d7/72/8f/60cb74f5e745204cbaa9d8f8ec98bd273d6e50265c03af002b\n",
            "Successfully built mamba_ssm\n",
            "Installing collected packages: mamba_ssm\n",
            "Successfully installed mamba_ssm-2.2.4\n"
          ]
        }
      ]
    },
    {
      "cell_type": "code",
      "source": [
        "# save this as train.py\n",
        "import torch\n",
        "from nemo import lightning as nl\n",
        "from nemo.collections import llm\n",
        "from megatron.core.optimizer import OptimizerConfig\n",
        "\n",
        "if __name__ == \"__main__\":\n",
        "    seq_length = 2048\n",
        "    global_batch_size = 16\n",
        "\n",
        "    ## setup the dummy dataset\n",
        "    data = llm.MockDataModule(seq_length=seq_length, global_batch_size=global_batch_size)\n",
        "\n",
        "    ## initialize a small GPT model\n",
        "    gpt_config = llm.GPTConfig(\n",
        "        num_layers=6,\n",
        "        hidden_size=384,\n",
        "        ffn_hidden_size=1536,\n",
        "        num_attention_heads=6,\n",
        "        seq_length=seq_length,\n",
        "        init_method_std=0.023,\n",
        "        hidden_dropout=0.1,\n",
        "        attention_dropout=0.1,\n",
        "        layernorm_epsilon=1e-5,\n",
        "        make_vocab_size_divisible_by=128,\n",
        "    )\n",
        "    model = llm.GPTModel(gpt_config, tokenizer=data.tokenizer)\n",
        "\n",
        "    ## initialize the strategy\n",
        "    strategy = nl.MegatronStrategy(\n",
        "        tensor_model_parallel_size=1,\n",
        "        pipeline_model_parallel_size=1,\n",
        "        pipeline_dtype=torch.bfloat16,\n",
        "    )\n",
        "\n",
        "    ## setup the optimizer\n",
        "    opt_config = OptimizerConfig(\n",
        "        optimizer='adam',\n",
        "        lr=6e-4,\n",
        "        bf16=True,\n",
        "    )\n",
        "    opt = nl.MegatronOptimizerModule(config=opt_config)\n",
        "\n",
        "    trainer = nl.Trainer(\n",
        "        devices=1, ## you can change the number of devices to suit your setup\n",
        "        max_steps=50,\n",
        "        accelerator=\"gpu\",\n",
        "        strategy=strategy,\n",
        "        plugins=nl.MegatronMixedPrecision(precision=\"bf16-mixed\"),\n",
        "    )\n",
        "\n",
        "    nemo_logger = nl.NeMoLogger(\n",
        "        log_dir=\"test_logdir\", ## logs and checkpoints will be written here\n",
        "    )\n",
        "\n",
        "    llm.train(\n",
        "        model=model,\n",
        "        data=data,\n",
        "        trainer=trainer,\n",
        "        log=nemo_logger,\n",
        "        tokenizer='data',\n",
        "        optim=opt,\n",
        "    )"
      ],
      "metadata": {
        "id": "QqmjNgWn0ze6"
      },
      "execution_count": null,
      "outputs": []
    },
    {
      "cell_type": "code",
      "source": [
        "#\n",
        "import os\n",
        "import nemo_run as run\n",
        "\n",
        "if __name__ == \"__main__\":\n",
        "    training_job = run.Script(\n",
        "        inline=\"\"\"\n",
        "# This string will get saved to a sh file and executed with bash\n",
        "# Run any preprocessing commands\n",
        "\n",
        "# Run the training command\n",
        "python train.py\n",
        "\n",
        "# Run any post processing commands\n",
        "\"\"\"\n",
        "    )\n",
        "\n",
        "    # Run it locally\n",
        "    executor = run.LocalExecutor()\n",
        "\n",
        "    with run.Experiment(\"nemo_2.0_training_experiment\", log_level=\"INFO\") as exp:\n",
        "        exp.add(training_job, executor=executor, tail_logs=True, name=\"training\")\n",
        "        # Add more jobs as needed\n",
        "\n",
        "        # Run the experiment\n",
        "        exp.run(detach=False)"
      ],
      "metadata": {
        "colab": {
          "base_uri": "https://localhost:8080/",
          "height": 1000
        },
        "id": "CspJFiRNykL4",
        "outputId": "e0391a15-cc82-4cca-e114-2f9c56102af6"
      },
      "execution_count": 4,
      "outputs": [
        {
          "output_type": "display_data",
          "data": {
            "text/plain": [
              "\u001b[92m──────── \u001b[0m\u001b[1;35mEntering Experiment nemo_2.0_training_experiment with id: nemo_2.0_training_experiment_1746724865\u001b[0m\u001b[92m ────────\u001b[0m\n"
            ],
            "text/html": [
              "<pre style=\"white-space:pre;overflow-x:auto;line-height:normal;font-family:Menlo,'DejaVu Sans Mono',consolas,'Courier New',monospace\"><span style=\"color: #00ff00; text-decoration-color: #00ff00\">──────── </span><span style=\"color: #800080; text-decoration-color: #800080; font-weight: bold\">Entering Experiment nemo_2.0_training_experiment with id: nemo_2.0_training_experiment_1746724865</span><span style=\"color: #00ff00; text-decoration-color: #00ff00\"> ────────</span>\n",
              "</pre>\n"
            ]
          },
          "metadata": {}
        },
        {
          "output_type": "stream",
          "name": "stderr",
          "text": [
            "Log directory is: /root/.nemo_run/experiments/nemo_2.0_training_experiment/nemo_2.0_training_experiment_1746724865/training\n"
          ]
        },
        {
          "output_type": "display_data",
          "data": {
            "text/plain": [
              "\u001b[2;36m[17:21:05]\u001b[0m\u001b[2;36m \u001b[0m\u001b[1;36mLaunching job training for experiment nemo_2.0_training_experiment\u001b[0m                     \u001b]8;id=493666;file:///usr/local/lib/python3.11/dist-packages/nemo_run/run/experiment.py\u001b\\\u001b[2mexperiment.py\u001b[0m\u001b]8;;\u001b\\\u001b[2m:\u001b[0m\u001b]8;id=275195;file:///usr/local/lib/python3.11/dist-packages/nemo_run/run/experiment.py#763\u001b\\\u001b[2m763\u001b[0m\u001b]8;;\u001b\\\n"
            ],
            "text/html": [
              "<pre style=\"white-space:pre;overflow-x:auto;line-height:normal;font-family:Menlo,'DejaVu Sans Mono',consolas,'Courier New',monospace\"><span style=\"color: #7fbfbf; text-decoration-color: #7fbfbf\">[17:21:05] </span><span style=\"color: #008080; text-decoration-color: #008080; font-weight: bold\">Launching job training for experiment nemo_2.0_training_experiment</span>                     <a href=\"file:///usr/local/lib/python3.11/dist-packages/nemo_run/run/experiment.py\" target=\"_blank\"><span style=\"color: #7f7f7f; text-decoration-color: #7f7f7f\">experiment.py</span></a><span style=\"color: #7f7f7f; text-decoration-color: #7f7f7f\">:</span><a href=\"file:///usr/local/lib/python3.11/dist-packages/nemo_run/run/experiment.py#763\" target=\"_blank\"><span style=\"color: #7f7f7f; text-decoration-color: #7f7f7f\">763</span></a>\n",
              "</pre>\n"
            ]
          },
          "metadata": {}
        },
        {
          "output_type": "stream",
          "name": "stderr",
          "text": [
            "Log directory is: /root/.nemo_run/experiments/nemo_2.0_training_experiment/nemo_2.0_training_experiment_1746724865/training\n",
            "Launched app: local_persistent://nemo_run/training-ggfgxnhxp1tqp\n"
          ]
        },
        {
          "output_type": "display_data",
          "data": {
            "text/plain": [
              "\u001b[92m──────────────────── \u001b[0m\u001b[1;35mWaiting for Experiment nemo_2.0_training_experiment_1746724865 to finish\u001b[0m\u001b[92m ─────────────────────\u001b[0m\n"
            ],
            "text/html": [
              "<pre style=\"white-space:pre;overflow-x:auto;line-height:normal;font-family:Menlo,'DejaVu Sans Mono',consolas,'Courier New',monospace\"><span style=\"color: #00ff00; text-decoration-color: #00ff00\">──────────────────── </span><span style=\"color: #800080; text-decoration-color: #800080; font-weight: bold\">Waiting for Experiment nemo_2.0_training_experiment_1746724865 to finish</span><span style=\"color: #00ff00; text-decoration-color: #00ff00\"> ─────────────────────</span>\n",
              "</pre>\n"
            ]
          },
          "metadata": {}
        },
        {
          "output_type": "display_data",
          "data": {
            "text/plain": [
              "\n"
            ],
            "text/html": [
              "<pre style=\"white-space:pre;overflow-x:auto;line-height:normal;font-family:Menlo,'DejaVu Sans Mono',consolas,'Courier New',monospace\">\n",
              "</pre>\n"
            ]
          },
          "metadata": {}
        },
        {
          "output_type": "display_data",
          "data": {
            "text/plain": [
              "\u001b[1;32mExperiment Status for\u001b[0m \u001b[1;38;5;214mnemo_2.0_training_experiment_1746724865\u001b[0m\n"
            ],
            "text/html": [
              "<pre style=\"white-space:pre;overflow-x:auto;line-height:normal;font-family:Menlo,'DejaVu Sans Mono',consolas,'Courier New',monospace\"><span style=\"color: #008000; text-decoration-color: #008000; font-weight: bold\">Experiment Status for</span> <span style=\"color: #ffaf00; text-decoration-color: #ffaf00; font-weight: bold\">nemo_2.0_training_experiment_1746724865</span>\n",
              "</pre>\n"
            ]
          },
          "metadata": {}
        },
        {
          "output_type": "display_data",
          "data": {
            "text/plain": [
              "\n",
              "\u001b[1;32mTask 0\u001b[0m: \u001b[1;38;5;214mtraining\u001b[0m\n",
              "- \u001b[1;32mStatus\u001b[0m: RUNNING\n",
              "- \u001b[1;32mExecutor\u001b[0m: LocalExecutor\n",
              "- \u001b[1;32mJob id\u001b[0m: training-ggfgxnhxp1tqp\n",
              "- \u001b[1;32mLocal Directory\u001b[0m: /root/.nemo_run/experiments/nemo_2.0_training_experiment/nemo_2.0_training_experiment_1746724865/training\n"
            ],
            "text/html": [
              "<pre style=\"white-space:pre;overflow-x:auto;line-height:normal;font-family:Menlo,'DejaVu Sans Mono',consolas,'Courier New',monospace\">\n",
              "<span style=\"color: #008000; text-decoration-color: #008000; font-weight: bold\">Task 0</span>: <span style=\"color: #ffaf00; text-decoration-color: #ffaf00; font-weight: bold\">training</span>\n",
              "- <span style=\"color: #008000; text-decoration-color: #008000; font-weight: bold\">Status</span>: RUNNING\n",
              "- <span style=\"color: #008000; text-decoration-color: #008000; font-weight: bold\">Executor</span>: LocalExecutor\n",
              "- <span style=\"color: #008000; text-decoration-color: #008000; font-weight: bold\">Job id</span>: training-ggfgxnhxp1tqp\n",
              "- <span style=\"color: #008000; text-decoration-color: #008000; font-weight: bold\">Local Directory</span>: /root/.nemo_run/experiments/nemo_2.0_training_experiment/nemo_2.0_training_experiment_1746724865/training\n",
              "</pre>\n"
            ]
          },
          "metadata": {}
        },
        {
          "output_type": "display_data",
          "data": {
            "text/plain": [
              "\n"
            ],
            "text/html": [
              "<pre style=\"white-space:pre;overflow-x:auto;line-height:normal;font-family:Menlo,'DejaVu Sans Mono',consolas,'Courier New',monospace\">\n",
              "</pre>\n"
            ]
          },
          "metadata": {}
        },
        {
          "output_type": "stream",
          "name": "stderr",
          "text": [
            "Waiting for job training-ggfgxnhxp1tqp to finish [log=True]...\n"
          ]
        },
        {
          "output_type": "stream",
          "name": "stdout",
          "text": [
            "training/0 2025-05-08 17:21:14.678751: E external/local_xla/xla/stream_executor/cuda/cuda_fft.cc:477] Unable to register cuFFT factory: Attempting to register factory for plugin cuFFT when one has already been registered\n",
            "training/0 WARNING: All log messages before absl::InitializeLog() is called are written to STDERR\n",
            "training/0 E0000 00:00:1746724874.700445   20367 cuda_dnn.cc:8310] Unable to register cuDNN factory: Attempting to register factory for plugin cuDNN when one has already been registered\n",
            "training/0 E0000 00:00:1746724874.707148   20367 cuda_blas.cc:1418] Unable to register cuBLAS factory: Attempting to register factory for plugin cuBLAS when one has already been registered\n",
            "training/0 [NeMo W 2025-05-08 17:21:22 nemo_logging:405] The package `megatron.core` was not imported in this environment which is needed for SSMs.\n",
            "training/0 [NeMo I 2025-05-08 17:21:22 nemo_logging:393] Getting Megatron tokenizer for pretrained model name: megatron-gpt-345m, custom vocab file: None, and merges file: None\n",
            "training/0 [NeMo I 2025-05-08 17:21:22 nemo_logging:393] Downloading from https://s3.amazonaws.com/models.huggingface.co/bert/gpt2-vocab.json to /root/.cache/torch/megatron/megatron-gpt-345m_vocab\n",
            "training/0 [NeMo I 2025-05-08 17:21:24 nemo_logging:393] Downloading from https://s3.amazonaws.com/models.huggingface.co/bert/gpt2-merges.txt to /root/.cache/torch/megatron/megatron-gpt-345m_merges\n",
            "training/0 [NeMo I 2025-05-08 17:21:25 nemo_logging:393] Getting HuggingFace AutoTokenizer with pretrained_model_name: gpt2, vocab_file: /root/.cache/torch/megatron/megatron-gpt-345m_vocab, merges_files: /root/.cache/torch/megatron/megatron-gpt-345m_merges, special_tokens_dict: {}, and use_fast: False\n",
            "training/0 GPU available: True (cuda), used: True\n",
            "training/0 TPU available: False, using: 0 TPU cores\n",
            "training/0 HPU available: False, using: 0 HPUs\n",
            "training/0 [NeMo I 2025-05-08 17:21:34 nemo_logging:393] Experiments will be logged at test_logdir/default/2025-05-08_17-21-34\n",
            "training/0 [NeMo I 2025-05-08 17:21:34 nemo_logging:393] Rank 0 has data parallel group : [0]\n",
            "training/0 [NeMo I 2025-05-08 17:21:34 nemo_logging:393] Rank 0 has combined group of data parallel and context parallel : [0]\n",
            "training/0 [NeMo I 2025-05-08 17:21:34 nemo_logging:393] All data parallel group ranks with context parallel combined: [[0]]\n",
            "training/0 [NeMo I 2025-05-08 17:21:34 nemo_logging:393] Ranks 0 has data parallel rank: 0\n",
            "training/0 [NeMo I 2025-05-08 17:21:34 nemo_logging:393] Rank 0 has context parallel group: [0]\n",
            "training/0 [NeMo I 2025-05-08 17:21:34 nemo_logging:393] All context parallel group ranks: [[0]]\n",
            "training/0 [NeMo I 2025-05-08 17:21:34 nemo_logging:393] Ranks 0 has context parallel rank: 0\n",
            "training/0 [NeMo I 2025-05-08 17:21:34 nemo_logging:393] Rank 0 has model parallel group: [0]\n",
            "training/0 [NeMo I 2025-05-08 17:21:34 nemo_logging:393] All model parallel group ranks: [[0]]\n",
            "training/0 [NeMo I 2025-05-08 17:21:34 nemo_logging:393] Rank 0 has tensor model parallel group: [0]\n",
            "training/0 [NeMo I 2025-05-08 17:21:34 nemo_logging:393] All tensor model parallel group ranks: [[0]]\n",
            "training/0 [NeMo I 2025-05-08 17:21:34 nemo_logging:393] Rank 0 has tensor model parallel rank: 0\n",
            "training/0 [NeMo I 2025-05-08 17:21:34 nemo_logging:393] Rank 0 has pipeline model parallel group: [0]\n",
            "training/0 [NeMo I 2025-05-08 17:21:34 nemo_logging:393] Rank 0 has embedding group: [0]\n",
            "training/0 [NeMo I 2025-05-08 17:21:34 nemo_logging:393] All pipeline model parallel group ranks: [[0]]\n",
            "training/0 [NeMo I 2025-05-08 17:21:34 nemo_logging:393] Rank 0 has pipeline model parallel rank 0\n",
            "training/0 [NeMo I 2025-05-08 17:21:34 nemo_logging:393] All embedding group ranks: [[0]]\n",
            "training/0 [NeMo I 2025-05-08 17:21:34 nemo_logging:393] Rank 0 has embedding rank: 0\n",
            "training/0 [NeMo W 2025-05-08 17:21:34 nemo_logging:405] \"update_logger_directory\" is True. Overwriting tensorboard logger \"save_dir\" to test_logdir\n",
            "training/0 You are using a CUDA device ('NVIDIA L4') that has Tensor Cores. To properly utilize them, you should set `torch.set_float32_matmul_precision('medium' | 'high')` which will trade-off precision for performance. For more details, read https://pytorch.org/docs/stable/generated/torch.set_float32_matmul_precision.html#torch.set_float32_matmul_precision\n",
            "training/0 Initializing distributed: GLOBAL_RANK: 0, MEMBER: 1/1\n",
            "training/0 ----------------------------------------------------------------------------------------------------\n",
            "training/0 distributed_backend=nccl\n",
            "training/0 All distributed processes registered. Starting with 1 processes\n",
            "training/0 ----------------------------------------------------------------------------------------------------\n",
            "training/0 \n",
            "training/0 [NeMo I 2025-05-08 17:21:35 nemo_logging:393] Padded vocab_size: 50304, original vocab_size: 50257, dummy tokens: 47.\n",
            "training/0 [NeMo I 2025-05-08 17:21:35 num_microbatches_calculator:228] setting number of microbatches to constant 4\n",
            "training/0 [NeMo I 2025-05-08 17:21:35 nemo_logging:393]  > number of parameters on (tensor, pipeline) model parallel rank (0 ,0): 30750720\n",
            "training/0 [NeMo I 2025-05-08 17:21:35 utils:532] Setting up DistributedDataParallel with config DistributedDataParallelConfig(grad_reduce_in_fp32=True, overlap_grad_reduce=False, overlap_param_gather=False, align_param_gather=False, use_distributed_optimizer=False, num_distributed_optimizer_instances=1, check_for_nan_in_grad=True, check_for_large_grads=False, bucket_size=None, pad_buckets_for_high_nccl_busbw=False, average_in_collective=False, fp8_param_gather=False, use_custom_fsdp=False, data_parallel_sharding_strategy='no_shard', gradient_reduce_div_fusion=True, suggested_communication_unit_size=None, preserve_fp32_weights=True, keep_fp8_transpose_cache_when_using_custom_fsdp=False)\n",
            "training/0 LOCAL_RANK: 0 - CUDA_VISIBLE_DEVICES: [0]\n",
            "training/0 [NeMo W 2025-05-08 17:21:35 nemo_logging:405] Could not copy Trainer's 'max_steps' to LR scheduler's 'max_steps'. If you are not using an LR scheduler, this warning can safely be ignored.\n",
            "training/0 [NeMo I 2025-05-08 17:21:35 utils:553] Number of buckets for gradient all-reduce / reduce-scatter: 1\n",
            "training/0     Params for bucket 1 (30750720 elements, 30750720 padded size):\n",
            "training/0     \tmodule.decoder.layers.2.self_attention.linear_qkv.weight\n",
            "training/0     \tmodule.decoder.layers.0.pre_mlp_layernorm.bias\n",
            "training/0     \tmodule.decoder.layers.3.self_attention.linear_proj.bias\n",
            "training/0     \tmodule.decoder.layers.1.pre_mlp_layernorm.weight\n",
            "training/0     \tmodule.decoder.layers.2.pre_mlp_layernorm.bias\n",
            "training/0     \tmodule.decoder.layers.0.mlp.linear_fc1.weight\n",
            "training/0     \tmodule.decoder.layers.4.mlp.linear_fc2.bias\n",
            "training/0     \tmodule.decoder.layers.5.input_layernorm.bias\n",
            "training/0     \tmodule.decoder.final_layernorm.bias\n",
            "training/0     \tmodule.decoder.final_layernorm.weight\n",
            "training/0     \tmodule.decoder.layers.5.pre_mlp_layernorm.bias\n",
            "training/0     \tmodule.decoder.layers.5.pre_mlp_layernorm.weight\n",
            "training/0     \tmodule.decoder.layers.4.pre_mlp_layernorm.weight\n",
            "training/0     \tmodule.decoder.layers.4.self_attention.linear_proj.bias\n",
            "training/0     \tmodule.decoder.layers.3.mlp.linear_fc2.bias\n",
            "training/0     \tmodule.decoder.layers.3.pre_mlp_layernorm.weight\n",
            "training/0     \tmodule.decoder.layers.1.mlp.linear_fc2.weight\n",
            "training/0     \tmodule.decoder.layers.0.self_attention.linear_qkv.weight\n",
            "training/0     \tmodule.decoder.layers.1.self_attention.linear_qkv.weight\n",
            "training/0     \tmodule.decoder.layers.0.input_layernorm.bias\n",
            "training/0     \tmodule.decoder.layers.1.mlp.linear_fc2.bias\n",
            "training/0     \tmodule.decoder.layers.0.self_attention.linear_qkv.bias\n",
            "training/0     \tmodule.decoder.layers.1.pre_mlp_layernorm.bias\n",
            "training/0     \tmodule.decoder.layers.2.self_attention.linear_qkv.bias\n",
            "training/0     \tmodule.decoder.layers.0.mlp.linear_fc1.bias\n",
            "training/0     \tmodule.decoder.layers.4.mlp.linear_fc1.weight\n",
            "training/0     \tmodule.decoder.layers.5.mlp.linear_fc2.bias\n",
            "training/0     \tmodule.decoder.layers.5.self_attention.linear_qkv.bias\n",
            "training/0     \tmodule.decoder.layers.4.pre_mlp_layernorm.bias\n",
            "training/0     \tmodule.decoder.layers.4.self_attention.linear_qkv.weight\n",
            "training/0     \tmodule.decoder.layers.3.mlp.linear_fc1.weight\n",
            "training/0     \tmodule.decoder.layers.3.pre_mlp_layernorm.bias\n",
            "training/0     \tmodule.decoder.layers.3.self_attention.linear_qkv.weight\n",
            "training/0     \tmodule.decoder.layers.2.mlp.linear_fc1.bias\n",
            "training/0     \tmodule.decoder.layers.2.mlp.linear_fc1.weight\n",
            "training/0     \tmodule.decoder.layers.1.input_layernorm.weight\n",
            "training/0     \tmodule.embedding.position_embeddings.weight\n",
            "training/0     \tmodule.decoder.layers.2.input_layernorm.bias\n",
            "training/0     \tmodule.decoder.layers.0.self_attention.linear_proj.weight\n",
            "training/0     \tmodule.decoder.layers.1.self_attention.linear_qkv.bias\n",
            "training/0     \tmodule.decoder.layers.2.self_attention.linear_proj.weight\n",
            "training/0     \tmodule.decoder.layers.0.mlp.linear_fc2.weight\n",
            "training/0     \tmodule.embedding.word_embeddings.weight\n",
            "training/0     \tmodule.decoder.layers.5.input_layernorm.weight\n",
            "training/0     \tmodule.decoder.layers.5.self_attention.linear_proj.weight\n",
            "training/0     \tmodule.decoder.layers.5.mlp.linear_fc1.weight\n",
            "training/0     \tmodule.decoder.layers.4.mlp.linear_fc1.bias\n",
            "training/0     \tmodule.decoder.layers.4.self_attention.linear_qkv.bias\n",
            "training/0     \tmodule.decoder.layers.4.input_layernorm.weight\n",
            "training/0     \tmodule.decoder.layers.3.mlp.linear_fc1.bias\n",
            "training/0     \tmodule.decoder.layers.3.self_attention.linear_qkv.bias\n",
            "training/0     \tmodule.decoder.layers.3.input_layernorm.weight\n",
            "training/0     \tmodule.decoder.layers.2.mlp.linear_fc2.weight\n",
            "training/0     \tmodule.decoder.layers.1.mlp.linear_fc1.bias\n",
            "training/0     \tmodule.decoder.layers.1.input_layernorm.bias\n",
            "training/0     \tmodule.decoder.layers.0.self_attention.linear_proj.bias\n",
            "training/0     \tmodule.decoder.layers.1.self_attention.linear_proj.weight\n",
            "training/0     \tmodule.decoder.layers.2.self_attention.linear_proj.bias\n",
            "training/0     \tmodule.decoder.layers.0.pre_mlp_layernorm.weight\n",
            "training/0     \tmodule.decoder.layers.0.input_layernorm.weight\n",
            "training/0     \tmodule.decoder.layers.2.input_layernorm.weight\n",
            "training/0     \tmodule.decoder.layers.5.mlp.linear_fc1.bias\n",
            "training/0     \tmodule.decoder.layers.5.mlp.linear_fc2.weight\n",
            "training/0     \tmodule.decoder.layers.5.self_attention.linear_qkv.weight\n",
            "training/0     \tmodule.decoder.layers.5.self_attention.linear_proj.bias\n",
            "training/0     \tmodule.decoder.layers.4.mlp.linear_fc2.weight\n",
            "training/0     \tmodule.decoder.layers.4.self_attention.linear_proj.weight\n",
            "training/0     \tmodule.decoder.layers.4.input_layernorm.bias\n",
            "training/0     \tmodule.decoder.layers.3.mlp.linear_fc2.weight\n",
            "training/0     \tmodule.decoder.layers.3.self_attention.linear_proj.weight\n",
            "training/0     \tmodule.decoder.layers.3.input_layernorm.bias\n",
            "training/0     \tmodule.decoder.layers.2.pre_mlp_layernorm.weight\n",
            "training/0     \tmodule.decoder.layers.1.mlp.linear_fc1.weight\n",
            "training/0     \tmodule.decoder.layers.0.mlp.linear_fc2.bias\n",
            "training/0     \tmodule.decoder.layers.2.mlp.linear_fc2.bias\n",
            "training/0     \tmodule.decoder.layers.1.self_attention.linear_proj.bias\n",
            "training/0 [NeMo I 2025-05-08 17:21:35 utils:532] Setting up optimizer with config OptimizerConfig(optimizer='adam', lr=0.0006, min_lr=None, decoupled_lr=None, decoupled_min_lr=None, weight_decay=0.01, fp16=False, bf16=True, params_dtype=torch.float32, use_precision_aware_optimizer=False, main_grads_dtype=torch.float32, main_params_dtype=torch.float32, exp_avg_dtype=torch.float32, exp_avg_sq_dtype=torch.float32, loss_scale=None, initial_loss_scale=4294967296, min_loss_scale=1.0, loss_scale_window=1000, hysteresis=2, adam_beta1=0.9, adam_beta2=0.999, adam_eps=1e-08, sgd_momentum=0.9, use_distributed_optimizer=False, overlap_param_gather_with_optimizer_step=False, optimizer_cpu_offload=False, optimizer_offload_fraction=0.0, use_torch_optimizer_for_cpu_offload=False, overlap_cpu_optimizer_d2h_h2d=False, pin_cpu_grads=True, pin_cpu_params=True, clip_grad=1.0, log_num_zeros_in_grad=False, barrier_with_L1_time=False, timers=None, config_logger_dir='')\n",
            "training/0 \n",
            "training/0   | Name   | Type | Params | Mode \n",
            "training/0 ----------------------------------------\n",
            "training/0 0 | module | DDP  | 30.8 M | train\n",
            "training/0 ----------------------------------------\n",
            "training/0 30.8 M    Trainable params\n",
            "training/0 0         Non-trainable params\n",
            "training/0 30.8 M    Total params\n",
            "training/0 123.003   Total estimated model params size (MB)\n",
            "training/0 113       Modules in train mode\n",
            "training/0 0         Modules in eval mode\n",
            "training/0 [rank0]: Traceback (most recent call last):\n",
            "training/0 [rank0]:   File \"/content/train.py\", line 56, in <module>\n",
            "training/0 [rank0]:     llm.train(\n",
            "training/0 [rank0]:   File \"/usr/local/lib/python3.11/dist-packages/nemo/collections/llm/api.py\", line 109, in train\n",
            "training/0 [rank0]:     trainer.fit(model, data)\n",
            "training/0 [rank0]:   File \"/usr/local/lib/python3.11/dist-packages/lightning/pytorch/trainer/trainer.py\", line 538, in fit\n",
            "training/0 [rank0]:     call._call_and_handle_interrupt(\n",
            "training/0 [rank0]:   File \"/usr/local/lib/python3.11/dist-packages/lightning/pytorch/trainer/call.py\", line 46, in _call_and_handle_interrupt\n",
            "training/0 [rank0]:     return trainer.strategy.launcher.launch(trainer_fn, *args, trainer=trainer, **kwargs)\n",
            "training/0 [rank0]:            ^^^^^^^^^^^^^^^^^^^^^^^^^^^^^^^^^^^^^^^^^^^^^^^^^^^^^^^^^^^^^^^^^^^^^^^^^^^^^^\n",
            "training/0 [rank0]:   File \"/usr/local/lib/python3.11/dist-packages/lightning/pytorch/strategies/launchers/subprocess_script.py\", line 105, in launch\n",
            "training/0 [rank0]:     return function(*args, **kwargs)\n",
            "training/0 [rank0]:            ^^^^^^^^^^^^^^^^^^^^^^^^^\n",
            "training/0 [rank0]:   File \"/usr/local/lib/python3.11/dist-packages/lightning/pytorch/trainer/trainer.py\", line 574, in _fit_impl\n",
            "training/0 [rank0]:     self._run(model, ckpt_path=ckpt_path)\n",
            "training/0 [rank0]:   File \"/usr/local/lib/python3.11/dist-packages/lightning/pytorch/trainer/trainer.py\", line 981, in _run\n",
            "training/0 [rank0]:     results = self._run_stage()\n",
            "training/0 [rank0]:               ^^^^^^^^^^^^^^^^^\n",
            "training/0 [rank0]:   File \"/usr/local/lib/python3.11/dist-packages/lightning/pytorch/trainer/trainer.py\", line 1023, in _run_stage\n",
            "training/0 [rank0]:     self._run_sanity_check()\n",
            "training/0 [rank0]:   File \"/usr/local/lib/python3.11/dist-packages/lightning/pytorch/trainer/trainer.py\", line 1052, in _run_sanity_check\n",
            "training/0 [rank0]:     val_loop.run()\n",
            "training/0 [rank0]:   File \"/usr/local/lib/python3.11/dist-packages/lightning/pytorch/loops/utilities.py\", line 178, in _decorator\n",
            "training/0 [rank0]:     return loop_run(self, *args, **kwargs)\n",
            "training/0 [rank0]:            ^^^^^^^^^^^^^^^^^^^^^^^^^^^^^^^\n",
            "training/0 [rank0]:   File \"/usr/local/lib/python3.11/dist-packages/lightning/pytorch/loops/evaluation_loop.py\", line 135, in run\n",
            "training/0 [rank0]:     self._evaluation_step(batch, batch_idx, dataloader_idx, dataloader_iter)\n",
            "training/0 [rank0]:   File \"/usr/local/lib/python3.11/dist-packages/lightning/pytorch/loops/evaluation_loop.py\", line 396, in _evaluation_step\n",
            "training/0 [rank0]:     output = call._call_strategy_hook(trainer, hook_name, *step_args)\n",
            "training/0 [rank0]:              ^^^^^^^^^^^^^^^^^^^^^^^^^^^^^^^^^^^^^^^^^^^^^^^^^^^^^^^^\n",
            "training/0 [rank0]:   File \"/usr/local/lib/python3.11/dist-packages/lightning/pytorch/trainer/call.py\", line 319, in _call_strategy_hook\n",
            "training/0 [rank0]:     output = fn(*args, **kwargs)\n",
            "training/0 [rank0]:              ^^^^^^^^^^^^^^^^^^^\n",
            "training/0 [rank0]:   File \"/usr/local/lib/python3.11/dist-packages/nemo/lightning/pytorch/strategies/megatron_strategy.py\", line 668, in validation_step\n",
            "training/0 [rank0]:     out = self.model.validation_step(dataloader_iter, *args, **kwargs)\n",
            "training/0 [rank0]:           ^^^^^^^^^^^^^^^^^^^^^^^^^^^^^^^^^^^^^^^^^^^^^^^^^^^^^^^^^^^^\n",
            "training/0 [rank0]:   File \"/usr/local/lib/python3.11/dist-packages/nemo/lightning/megatron_parallel.py\", line 405, in validation_step\n",
            "training/0 [rank0]:     return self._step(\n",
            "training/0 [rank0]:            ^^^^^^^^^^^\n",
            "training/0 [rank0]:   File \"/usr/local/lib/python3.11/dist-packages/nemo/lightning/megatron_parallel.py\", line 492, in _step\n",
            "training/0 [rank0]:     return self.forward(\n",
            "training/0 [rank0]:            ^^^^^^^^^^^^^\n",
            "training/0 [rank0]:   File \"/usr/local/lib/python3.11/dist-packages/nemo/lightning/megatron_parallel.py\", line 342, in forward\n",
            "training/0 [rank0]:     microbatch_outputs = step()\n",
            "training/0 [rank0]:                          ^^^^^^\n",
            "training/0 [rank0]:   File \"/usr/local/lib/python3.11/dist-packages/nemo/lightning/megatron_parallel.py\", line 1232, in __call__\n",
            "training/0 [rank0]:     return self.forward_backward_func(\n",
            "training/0 [rank0]:            ^^^^^^^^^^^^^^^^^^^^^^^^^^^\n",
            "training/0 [rank0]:   File \"/usr/local/lib/python3.11/dist-packages/megatron/core/pipeline_parallel/schedules.py\", line 480, in forward_backward_no_pipelining\n",
            "training/0 [rank0]:     output_tensor, num_tokens = forward_step(\n",
            "training/0 [rank0]:                                 ^^^^^^^^^^^^^\n",
            "training/0 [rank0]:   File \"/usr/local/lib/python3.11/dist-packages/megatron/core/pipeline_parallel/schedules.py\", line 277, in forward_step\n",
            "training/0 [rank0]:     output_tensor, loss_func = forward_step_func(data_iterator, model)\n",
            "training/0 [rank0]:                                ^^^^^^^^^^^^^^^^^^^^^^^^^^^^^^^^^^^^^^^\n",
            "training/0 [rank0]:   File \"/usr/local/lib/python3.11/dist-packages/nemo/lightning/megatron_parallel.py\", line 555, in wrapped_forward_step_func\n",
            "training/0 [rank0]:     output_tensor = _forward_step(model, batch)\n",
            "training/0 [rank0]:                     ^^^^^^^^^^^^^^^^^^^^^^^^^^^\n",
            "training/0 [rank0]:   File \"/usr/local/lib/python3.11/dist-packages/nemo/lightning/megatron_parallel.py\", line 842, in wrapped\n",
            "training/0 [rank0]:     return attr(*args)\n",
            "training/0 [rank0]:            ^^^^^^^^^^^\n",
            "training/0 [rank0]:   File \"/usr/local/lib/python3.11/dist-packages/nemo/collections/llm/gpt/model/base.py\", line 411, in validation_step\n",
            "training/0 [rank0]:     return self.forward_step(batch)\n",
            "training/0 [rank0]:            ^^^^^^^^^^^^^^^^^^^^^^^^\n",
            "training/0 [rank0]:   File \"/usr/local/lib/python3.11/dist-packages/nemo/collections/llm/gpt/model/base.py\", line 402, in forward_step\n",
            "training/0 [rank0]:     return self.config.forward_step_fn(self, batch)\n",
            "training/0 [rank0]:            ^^^^^^^^^^^^^^^^^^^^^^^^^^^^^^^^^^^^^^^^\n",
            "training/0 [rank0]:   File \"/usr/local/lib/python3.11/dist-packages/nemo/collections/llm/gpt/model/base.py\", line 103, in gpt_forward_step\n",
            "training/0 [rank0]:     HAVE_TE\n",
            "training/0 [rank0]: AssertionError: The dataloader did not provide an attention mask, however Transformer Engine was not detected.             This requires Transformer Engine's implementation of fused or flash attention.\n"
          ]
        },
        {
          "output_type": "stream",
          "name": "stderr",
          "text": [
            "Job training-ggfgxnhxp1tqp finished: FAILED\n"
          ]
        },
        {
          "output_type": "display_data",
          "data": {
            "text/plain": [
              "\u001b[48;2;39;40;34m                                                                                                                   \u001b[0m\n",
              "\u001b[38;2;149;144;119;48;2;39;40;34m# The experiment was run with the following tasks: ['training']\u001b[0m\u001b[48;2;39;40;34m                                                    \u001b[0m\n",
              "\u001b[38;2;149;144;119;48;2;39;40;34m# You can inspect and reconstruct this experiment at a later point in time using:\u001b[0m\u001b[48;2;39;40;34m                                  \u001b[0m\n",
              "\u001b[38;2;248;248;242;48;2;39;40;34mexperiment\u001b[0m\u001b[38;2;248;248;242;48;2;39;40;34m \u001b[0m\u001b[38;2;255;70;137;48;2;39;40;34m=\u001b[0m\u001b[38;2;248;248;242;48;2;39;40;34m \u001b[0m\u001b[38;2;248;248;242;48;2;39;40;34mrun\u001b[0m\u001b[38;2;255;70;137;48;2;39;40;34m.\u001b[0m\u001b[38;2;248;248;242;48;2;39;40;34mExperiment\u001b[0m\u001b[38;2;255;70;137;48;2;39;40;34m.\u001b[0m\u001b[38;2;248;248;242;48;2;39;40;34mfrom_id\u001b[0m\u001b[38;2;248;248;242;48;2;39;40;34m(\u001b[0m\u001b[38;2;230;219;116;48;2;39;40;34m\"\u001b[0m\u001b[38;2;230;219;116;48;2;39;40;34mnemo_2.0_training_experiment_1746724865\u001b[0m\u001b[38;2;230;219;116;48;2;39;40;34m\"\u001b[0m\u001b[38;2;248;248;242;48;2;39;40;34m)\u001b[0m\u001b[48;2;39;40;34m                                     \u001b[0m\n",
              "\u001b[38;2;248;248;242;48;2;39;40;34mexperiment\u001b[0m\u001b[38;2;255;70;137;48;2;39;40;34m.\u001b[0m\u001b[38;2;248;248;242;48;2;39;40;34mstatus\u001b[0m\u001b[38;2;248;248;242;48;2;39;40;34m(\u001b[0m\u001b[38;2;248;248;242;48;2;39;40;34m)\u001b[0m\u001b[38;2;248;248;242;48;2;39;40;34m \u001b[0m\u001b[38;2;149;144;119;48;2;39;40;34m# Gets the overall status\u001b[0m\u001b[48;2;39;40;34m                                                                      \u001b[0m\n",
              "\u001b[38;2;248;248;242;48;2;39;40;34mexperiment\u001b[0m\u001b[38;2;255;70;137;48;2;39;40;34m.\u001b[0m\u001b[38;2;248;248;242;48;2;39;40;34mlogs\u001b[0m\u001b[38;2;248;248;242;48;2;39;40;34m(\u001b[0m\u001b[38;2;230;219;116;48;2;39;40;34m\"\u001b[0m\u001b[38;2;230;219;116;48;2;39;40;34mtraining\u001b[0m\u001b[38;2;230;219;116;48;2;39;40;34m\"\u001b[0m\u001b[38;2;248;248;242;48;2;39;40;34m)\u001b[0m\u001b[38;2;248;248;242;48;2;39;40;34m \u001b[0m\u001b[38;2;149;144;119;48;2;39;40;34m# Gets the log for the provided task\u001b[0m\u001b[48;2;39;40;34m                                                   \u001b[0m\n",
              "\u001b[38;2;248;248;242;48;2;39;40;34mexperiment\u001b[0m\u001b[38;2;255;70;137;48;2;39;40;34m.\u001b[0m\u001b[38;2;248;248;242;48;2;39;40;34mcancel\u001b[0m\u001b[38;2;248;248;242;48;2;39;40;34m(\u001b[0m\u001b[38;2;230;219;116;48;2;39;40;34m\"\u001b[0m\u001b[38;2;230;219;116;48;2;39;40;34mtraining\u001b[0m\u001b[38;2;230;219;116;48;2;39;40;34m\"\u001b[0m\u001b[38;2;248;248;242;48;2;39;40;34m)\u001b[0m\u001b[38;2;248;248;242;48;2;39;40;34m \u001b[0m\u001b[38;2;149;144;119;48;2;39;40;34m# Cancels the provided task if still running\u001b[0m\u001b[48;2;39;40;34m                                         \u001b[0m\n",
              "\u001b[48;2;39;40;34m                                                                                                                   \u001b[0m\n"
            ],
            "text/html": [
              "<pre style=\"white-space:pre;overflow-x:auto;line-height:normal;font-family:Menlo,'DejaVu Sans Mono',consolas,'Courier New',monospace\"><span style=\"background-color: #272822\">                                                                                                                   </span>\n",
              "<span style=\"color: #959077; text-decoration-color: #959077; background-color: #272822\"># The experiment was run with the following tasks: ['training']</span><span style=\"background-color: #272822\">                                                    </span>\n",
              "<span style=\"color: #959077; text-decoration-color: #959077; background-color: #272822\"># You can inspect and reconstruct this experiment at a later point in time using:</span><span style=\"background-color: #272822\">                                  </span>\n",
              "<span style=\"color: #f8f8f2; text-decoration-color: #f8f8f2; background-color: #272822\">experiment </span><span style=\"color: #ff4689; text-decoration-color: #ff4689; background-color: #272822\">=</span><span style=\"color: #f8f8f2; text-decoration-color: #f8f8f2; background-color: #272822\"> run</span><span style=\"color: #ff4689; text-decoration-color: #ff4689; background-color: #272822\">.</span><span style=\"color: #f8f8f2; text-decoration-color: #f8f8f2; background-color: #272822\">Experiment</span><span style=\"color: #ff4689; text-decoration-color: #ff4689; background-color: #272822\">.</span><span style=\"color: #f8f8f2; text-decoration-color: #f8f8f2; background-color: #272822\">from_id(</span><span style=\"color: #e6db74; text-decoration-color: #e6db74; background-color: #272822\">\"nemo_2.0_training_experiment_1746724865\"</span><span style=\"color: #f8f8f2; text-decoration-color: #f8f8f2; background-color: #272822\">)</span><span style=\"background-color: #272822\">                                     </span>\n",
              "<span style=\"color: #f8f8f2; text-decoration-color: #f8f8f2; background-color: #272822\">experiment</span><span style=\"color: #ff4689; text-decoration-color: #ff4689; background-color: #272822\">.</span><span style=\"color: #f8f8f2; text-decoration-color: #f8f8f2; background-color: #272822\">status() </span><span style=\"color: #959077; text-decoration-color: #959077; background-color: #272822\"># Gets the overall status</span><span style=\"background-color: #272822\">                                                                      </span>\n",
              "<span style=\"color: #f8f8f2; text-decoration-color: #f8f8f2; background-color: #272822\">experiment</span><span style=\"color: #ff4689; text-decoration-color: #ff4689; background-color: #272822\">.</span><span style=\"color: #f8f8f2; text-decoration-color: #f8f8f2; background-color: #272822\">logs(</span><span style=\"color: #e6db74; text-decoration-color: #e6db74; background-color: #272822\">\"training\"</span><span style=\"color: #f8f8f2; text-decoration-color: #f8f8f2; background-color: #272822\">) </span><span style=\"color: #959077; text-decoration-color: #959077; background-color: #272822\"># Gets the log for the provided task</span><span style=\"background-color: #272822\">                                                   </span>\n",
              "<span style=\"color: #f8f8f2; text-decoration-color: #f8f8f2; background-color: #272822\">experiment</span><span style=\"color: #ff4689; text-decoration-color: #ff4689; background-color: #272822\">.</span><span style=\"color: #f8f8f2; text-decoration-color: #f8f8f2; background-color: #272822\">cancel(</span><span style=\"color: #e6db74; text-decoration-color: #e6db74; background-color: #272822\">\"training\"</span><span style=\"color: #f8f8f2; text-decoration-color: #f8f8f2; background-color: #272822\">) </span><span style=\"color: #959077; text-decoration-color: #959077; background-color: #272822\"># Cancels the provided task if still running</span><span style=\"background-color: #272822\">                                         </span>\n",
              "<span style=\"background-color: #272822\">                                                                                                                   </span>\n",
              "</pre>\n"
            ]
          },
          "metadata": {}
        },
        {
          "output_type": "display_data",
          "data": {
            "text/plain": [
              "\u001b[48;2;39;40;34m                                                                                                                   \u001b[0m\n",
              "\u001b[38;2;149;144;119;48;2;39;40;34m# You can inspect this experiment at a later point in time using the CLI as well:\u001b[0m\u001b[48;2;39;40;34m                                  \u001b[0m\n",
              "\u001b[38;2;248;248;242;48;2;39;40;34mnemo\u001b[0m\u001b[38;2;248;248;242;48;2;39;40;34m \u001b[0m\u001b[38;2;248;248;242;48;2;39;40;34mexperiment\u001b[0m\u001b[38;2;248;248;242;48;2;39;40;34m \u001b[0m\u001b[38;2;248;248;242;48;2;39;40;34mstatus\u001b[0m\u001b[38;2;248;248;242;48;2;39;40;34m \u001b[0m\u001b[38;2;248;248;242;48;2;39;40;34mnemo_2.0_training_experiment_1746724865\u001b[0m\u001b[48;2;39;40;34m                                                     \u001b[0m\n",
              "\u001b[38;2;248;248;242;48;2;39;40;34mnemo\u001b[0m\u001b[38;2;248;248;242;48;2;39;40;34m \u001b[0m\u001b[38;2;248;248;242;48;2;39;40;34mexperiment\u001b[0m\u001b[38;2;248;248;242;48;2;39;40;34m \u001b[0m\u001b[38;2;248;248;242;48;2;39;40;34mlogs\u001b[0m\u001b[38;2;248;248;242;48;2;39;40;34m \u001b[0m\u001b[38;2;248;248;242;48;2;39;40;34mnemo_2.0_training_experiment_1746724865\u001b[0m\u001b[38;2;248;248;242;48;2;39;40;34m \u001b[0m\u001b[38;2;174;129;255;48;2;39;40;34m0\u001b[0m\u001b[48;2;39;40;34m                                                     \u001b[0m\n",
              "\u001b[38;2;248;248;242;48;2;39;40;34mnemo\u001b[0m\u001b[38;2;248;248;242;48;2;39;40;34m \u001b[0m\u001b[38;2;248;248;242;48;2;39;40;34mexperiment\u001b[0m\u001b[38;2;248;248;242;48;2;39;40;34m \u001b[0m\u001b[38;2;248;248;242;48;2;39;40;34mcancel\u001b[0m\u001b[38;2;248;248;242;48;2;39;40;34m \u001b[0m\u001b[38;2;248;248;242;48;2;39;40;34mnemo_2.0_training_experiment_1746724865\u001b[0m\u001b[38;2;248;248;242;48;2;39;40;34m \u001b[0m\u001b[38;2;174;129;255;48;2;39;40;34m0\u001b[0m\u001b[48;2;39;40;34m                                                   \u001b[0m\n",
              "\u001b[48;2;39;40;34m                                                                                                                   \u001b[0m\n"
            ],
            "text/html": [
              "<pre style=\"white-space:pre;overflow-x:auto;line-height:normal;font-family:Menlo,'DejaVu Sans Mono',consolas,'Courier New',monospace\"><span style=\"background-color: #272822\">                                                                                                                   </span>\n",
              "<span style=\"color: #959077; text-decoration-color: #959077; background-color: #272822\"># You can inspect this experiment at a later point in time using the CLI as well:</span><span style=\"background-color: #272822\">                                  </span>\n",
              "<span style=\"color: #f8f8f2; text-decoration-color: #f8f8f2; background-color: #272822\">nemo experiment status nemo_2.0_training_experiment_1746724865</span><span style=\"background-color: #272822\">                                                     </span>\n",
              "<span style=\"color: #f8f8f2; text-decoration-color: #f8f8f2; background-color: #272822\">nemo experiment logs nemo_2.0_training_experiment_1746724865 </span><span style=\"color: #ae81ff; text-decoration-color: #ae81ff; background-color: #272822\">0</span><span style=\"background-color: #272822\">                                                     </span>\n",
              "<span style=\"color: #f8f8f2; text-decoration-color: #f8f8f2; background-color: #272822\">nemo experiment cancel nemo_2.0_training_experiment_1746724865 </span><span style=\"color: #ae81ff; text-decoration-color: #ae81ff; background-color: #272822\">0</span><span style=\"background-color: #272822\">                                                   </span>\n",
              "<span style=\"background-color: #272822\">                                                                                                                   </span>\n",
              "</pre>\n"
            ]
          },
          "metadata": {}
        }
      ]
    }
  ],
  "metadata": {
    "colab": {
      "machine_shape": "hm",
      "provenance": [],
      "gpuType": "T4",
      "toc_visible": true,
      "include_colab_link": true
    },
    "kernelspec": {
      "display_name": "Python 3",
      "name": "python3"
    },
    "language_info": {
      "name": "python"
    },
    "accelerator": "GPU"
  },
  "nbformat": 4,
  "nbformat_minor": 0
}